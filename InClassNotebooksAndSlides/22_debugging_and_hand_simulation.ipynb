{
 "cells": [
  {
   "cell_type": "markdown",
   "id": "727dd244",
   "metadata": {},
   "source": [
    "# Debugging and hand simulation\n",
    "\n",
    "*GEOL 3600/5700 Introduction to Python Programming for Geoscientists, Nov 2023*\n",
    "\n",
    "### Goals\n",
    "\n",
    "- Learn how to use hand simulation to debug and analyze code"
   ]
  },
  {
   "cell_type": "markdown",
   "id": "c3937fa3",
   "metadata": {},
   "source": [
    "## About hand simulation\n",
    "\n",
    "- \"Hand simulation\" is a simple technique for analyzing and debugging code.\n",
    "- You become the computer, \"executing\" each line of code by jotting down on paper the results of that line.\n",
    "- Whenever a variable is defined, write its name down, and the value next to it.\n",
    "- Whenever the value changes, scratch it out and replace it on your sheet.\n",
    "- Write down the outputs from your program.\n"
   ]
  },
  {
   "cell_type": "markdown",
   "id": "94474723",
   "metadata": {},
   "source": [
    "## Example: revisiting our 1d hillslope diffusion code\n",
    "\n",
    "Below is a code that has several bugs purposely introduced. We'll walk through a hand simulation together."
   ]
  },
  {
   "cell_type": "code",
   "execution_count": null,
   "id": "7190c359",
   "metadata": {},
   "outputs": [],
   "source": [
    "import numpy as np\n",
    "import matplotlib.pyplot as plt"
   ]
  },
  {
   "cell_type": "markdown",
   "id": "fd358fd0",
   "metadata": {},
   "source": [
    "Here's the original, buggy version:"
   ]
  },
  {
   "cell_type": "code",
   "execution_count": null,
   "id": "1809a8f3",
   "metadata": {},
   "outputs": [],
   "source": [
    "# INITIALIZE\n",
    "\n",
    "# Define parameters\n",
    "Kc = 0.01 # creep coefficient, m2/y\n",
    "bdy_lower_rate = 0.0001 # rate of boundary lowering, m/y\n",
    "starting_height = 1600.0 # initial elevation, m\n",
    "num_nodes = 101.0 # number of nodes\n",
    "dx = 10.0 # spacing between nodes, m\n",
    "dt = 5000.0 # time step duration, y\n",
    "num_steps = 1000.0 # number of time steps\n",
    "\n",
    "# Create data structures\n",
    "x = np.arange(0, num_steps, dt)\n",
    "height = np.zeros(num_noeds) + starting_height\n",
    "\n",
    "# RUN\n",
    "\n",
    "for _ in range(1, num_steps + 1):\n",
    "\n",
    "    # lower the boundaries\n",
    "    height[0] -= boundary_lowering_rate\n",
    "    height[1] -= boundary_lowering_rate\n",
    "\n",
    "    # calculate gradients: difference in height divided by grid spacing\n",
    "    grad = np.diff(height) / dt\n",
    "\n",
    "    # calculate soil fluxes\n",
    "    soil_flux = -Kc * slope\n",
    "\n",
    "    # calculate flux divergence: difference in flux divided by grid spacing\n",
    "    dqdx = np.diff(soil_flux) / dx\n",
    "\n",
    "    # update elevations\n",
    "    height -= dqdx * dt\n",
    "\n",
    "# FINALIZE\n",
    "\n",
    "# Plot resulting landform\n",
    "plt.plot(x, height)\n",
    "plt.xlabel(\"Distance (m)\")\n",
    "plt.ylabel(\"Elevation (m)\")\n"
   ]
  },
  {
   "cell_type": "markdown",
   "id": "8a186ef7",
   "metadata": {},
   "source": [
    "Here's the version we'll debug together, with help from hand simulation:"
   ]
  },
  {
   "cell_type": "code",
   "execution_count": null,
   "id": "1b626f04",
   "metadata": {},
   "outputs": [],
   "source": [
    "# INITIALIZE\n",
    "\n",
    "# Define parameters\n",
    "Kc = 0.01 # creep coefficient, m2/y\n",
    "bdy_lower_rate = 0.0001 # rate of boundary lowering, m/y\n",
    "starting_height = 1600.0 # initial elevation, m\n",
    "num_nodes = 5 # number of nodes\n",
    "dx = 10.0 # spacing between nodes, m\n",
    "dt = 5000.0 # time step duration, y\n",
    "num_steps = 2 # number of time steps\n",
    "\n",
    "# Create data structures\n",
    "x = np.arange(0, num_nodes * dx, dx)\n",
    "height = np.zeros(num_nodes) + starting_height\n",
    "\n",
    "# RUN\n",
    "\n",
    "for _ in range(1, num_steps + 1):\n",
    "\n",
    "    # lower the boundaries\n",
    "    height[0] -= bdy_lower_rate\n",
    "    height[1] -= bdy_lower_rate\n",
    "\n",
    "    # calculate gradients: difference in height divided by grid spacing\n",
    "    grad = np.diff(height) / dt\n",
    "\n",
    "    # calculate soil fluxes: difference in flux divided by grid spacing\n",
    "    soil_flux = -Kc * grad\n",
    "\n",
    "    # calculate flux divergence\n",
    "    dqdx = np.diff(soil_flux) / dx\n",
    "\n",
    "    # update elevations\n",
    "    height -= dqdx * dt\n",
    "\n",
    "# FINALIZE\n",
    "\n",
    "# Plot resulting landform\n",
    "plt.plot(x, height)\n",
    "plt.xlabel(\"Distance (m)\")\n",
    "plt.ylabel(\"Elevation (m)\")\n"
   ]
  },
  {
   "cell_type": "markdown",
   "id": "88f703c3",
   "metadata": {},
   "source": [
    "<details>\n",
    "<summary><b>(click to see working code)</b></summary>\n",
    "    \n",
    "```\n",
    "# INITIALIZE\n",
    "\n",
    "# Define parameters\n",
    "Kc = 0.01 # creep coefficient, m2/y\n",
    "boundary_lowering_rate = 0.0001 # rate of boundary lowering, m/y\n",
    "starting_height = 1600.0 # initial elevation, m\n",
    "num_nodes = 101 # number of nodes\n",
    "dx = 10.0 # spacing between nodes, m\n",
    "dt = 5000.0 # time step duration, y\n",
    "num_steps = 1000 # number of time steps\n",
    "\n",
    "# Create data structures\n",
    "x = np.arange(0, dx * num_nodes, dx)\n",
    "height = np.zeros(num_nodes) + starting_height\n",
    "\n",
    "# RUN\n",
    "\n",
    "for _ in range(1, num_steps + 1):\n",
    "    \n",
    "    # lower the boundaries\n",
    "    height[0] -= boundary_lowering_rate * dt\n",
    "    height[-1] -= boundary_lowering_rate * dt\n",
    "\n",
    "    # calculate gradients\n",
    "    grad = np.diff(height) / dx\n",
    "\n",
    "    # calculate soil fluxes\n",
    "    soil_flux = -Kc * grad\n",
    "    \n",
    "    # calculate flux divergence\n",
    "    dqdx = np.diff(soil_flux) / dx\n",
    "    \n",
    "    # update elevations\n",
    "    height[1:-1] -= dqdx * dt\n",
    "\n",
    "# FINALIZE\n",
    "\n",
    "# Plot resulting landform\n",
    "plt.plot(x, height)\n",
    "plt.xlabel(\"Distance (m)\")\n",
    "plt.ylabel(\"Elevation (m)\")\n",
    "```\n",
    "    \n",
    "</details>"
   ]
  },
  {
   "cell_type": "markdown",
   "id": "1416f814",
   "metadata": {},
   "source": [
    "## Using debuggers and IDEs\n",
    "\n",
    "These days, programmers can take advantage of **Integrated Development Environments** (IDEs). A typical IDE includes:\n",
    "\n",
    "- A text editor for your code\n",
    "- A **debugger** that lets you step through one line at a time\n",
    "- A window that reports currently defined variables and their values\n",
    "- Linting tools\n",
    "\n",
    "Examples of Python and general-purpose IDEs include:\n",
    "\n",
    "- Spyder: for Python; comes with Anaconda\n",
    "- PyCharm: from a company called JetBrains; offers free version to students and faculty\n",
    "- vscode: free editor/debugger from Microsoft\n"
   ]
  }
 ],
 "metadata": {
  "kernelspec": {
   "display_name": "Python 3 (ipykernel)",
   "language": "python",
   "name": "python3"
  },
  "language_info": {
   "codemirror_mode": {
    "name": "ipython",
    "version": 3
   },
   "file_extension": ".py",
   "mimetype": "text/x-python",
   "name": "python",
   "nbconvert_exporter": "python",
   "pygments_lexer": "ipython3",
   "version": "3.12.4"
  }
 },
 "nbformat": 4,
 "nbformat_minor": 5
}
