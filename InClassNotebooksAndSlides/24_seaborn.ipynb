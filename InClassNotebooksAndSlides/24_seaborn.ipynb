{
 "cells": [
  {
   "cell_type": "markdown",
   "id": "72fbd4af-7f83-4e5b-b388-dd25d87208a7",
   "metadata": {},
   "source": [
    "# Advanced Visualization with Seaborn\n",
    "**Introduction to Python Programming for Earth Scientists**, session #XX, 27 November 2023\n",
    "\n",
    "## Goals\n",
    "* Find data online and understand how to use metadata to interpret it\n",
    "* Use seaborn and pandas to understand how data is correlated\n",
    "* Use the \"hue\" argument to categorize data"
   ]
  },
  {
   "cell_type": "markdown",
   "id": "8b4fb823-2868-429a-a5e6-f5704867e479",
   "metadata": {},
   "source": [
    "Earlier in this semester some fellow students have already introduced you to Seaborn, a libary to make statistical visualizations of data.  We will spend a little more time using this library to explore a dataset of water samples from Gordon Gulch, west of Boulder.  This data was collected by CU Boulder goegraphy masters student Maggie Burns and her advisor, Holly Barnard.  The data is available here: https://www.hydroshare.org/resource/25ba8374892541c4bfe0c9cf18f520ca/  \n",
    "Please read about what the data is on this website.  Once you understand what the data, please download it from Hydroshare and upload it to the JupyterHub"
   ]
  },
  {
   "cell_type": "markdown",
   "id": "e0ce4db3-1bb1-47a4-903d-b9f5f2b8aeac",
   "metadata": {},
   "source": [
    "Seaborn is build on Pandas, and matplotlib.  While we won't have to engadge with matplotlib directly, understanding matplotlib is necessary to customize seaborn plots, and many advanced examples freely blend the two.  For now, we will import pandas and seaborn."
   ]
  },
  {
   "cell_type": "code",
   "execution_count": null,
   "id": "74784133-d2d3-413f-8788-9e3f02d7ff06",
   "metadata": {},
   "outputs": [],
   "source": [
    "import pandas as pd\n",
    "import seaborn as sns"
   ]
  },
  {
   "cell_type": "markdown",
   "id": "72c8cbef-477a-43d2-a016-b04afb117216",
   "metadata": {},
   "source": [
    "Next, we will load in our data CSV into seaborn.  First we will define the path variable as a string (the exact value will depend on where you uploaded the data file!) and load it as a dataframe"
   ]
  },
  {
   "cell_type": "code",
   "execution_count": null,
   "id": "abd22c33",
   "metadata": {},
   "outputs": [],
   "source": [
    "!ls ../../Scratch/DOM*"
   ]
  },
  {
   "cell_type": "code",
   "execution_count": null,
   "id": "ed54839c-cb54-45fe-9bce-49e7d4042a61",
   "metadata": {},
   "outputs": [],
   "source": [
    "data_path = \"../../Scratch/DOM_MA_Data.csv/DOM_MA_Data.csv\" # for me, it was \"cub/teaching/python/DOM_MA_Data.csv\"\n",
    "df = pd.read_csv(data_path)"
   ]
  },
  {
   "cell_type": "markdown",
   "id": "75c28b40-f510-4ab5-a318-abe9f6aa5848",
   "metadata": {},
   "source": [
    "Now, preview the data frame to think about how we will reference it"
   ]
  },
  {
   "cell_type": "code",
   "execution_count": null,
   "id": "2eacf00b-3586-4168-acb8-1ef8e03222c9",
   "metadata": {},
   "outputs": [],
   "source": [
    "df"
   ]
  },
  {
   "cell_type": "markdown",
   "id": "d7531d48-377e-496a-b5b4-6af7ed66e1e4",
   "metadata": {},
   "source": [
    "In seaborn, like pandas, we pass a data frame and reference columns with a stringcorresponding to the column name.  This is in contrast to MatPlotLib, where we pass arrays of data.  Lets start with making a line plot to look at how Dissolved Organic Carbon (DOC) changes over the year"
   ]
  },
  {
   "cell_type": "code",
   "execution_count": null,
   "id": "d00f5a9f-2b50-47a7-a096-1b0b09996bea",
   "metadata": {},
   "outputs": [],
   "source": [
    "sns.lineplot(data=df, x=\"Date\", y=\"DOC (mg/L)\")"
   ]
  },
  {
   "cell_type": "markdown",
   "id": "50094350-7035-4aff-bc3c-fe132ffed026",
   "metadata": {},
   "source": [
    "Wow!  Not just a simple a line plot!  There's a few things we should think about.  First, did you get some scary looking warnings?  Read what they *actually* say.  Do you think this is something you need to worry about?  Secondly, notice that there is a line, and an area.  What do you think that area is?  Take a look at the lineplot documentation: https://seaborn.pydata.org/generated/seaborn.lineplot.html\n",
    "Lastly, that x-axis is troublesome.  Lets clean it up a bit.  The immediate issue, is that the \"date\" column contains strings, which Python isn't parsing as a date.  This means it can't group the labels on the X axis correctly, but it's also an issue because, as you may have seen from the table, the rows of observations aren't in chronological order!\n",
    " ## <font color = green> IN-CLASS PRACTICE </font> \n",
    "Make a lineplot of DOC that is in chronolgical order.  "
   ]
  },
  {
   "cell_type": "code",
   "execution_count": null,
   "id": "d93a22d8-ff34-4eb6-aaf8-642aa4e221fc",
   "metadata": {},
   "outputs": [],
   "source": [
    "# HINT: There are a few ways to do this, but there is a column\n",
    "# in the table that you can use without issue\n",
    "df = df.sort_values(by=\"Date\")\n",
    "sns.lineplot(data=df, x=\"DOY\", y=\"DOC (mg/L)\")"
   ]
  },
  {
   "cell_type": "markdown",
   "id": "86bceee4-6a06-4e57-b83b-9faf4dd18319",
   "metadata": {},
   "source": [
    "## Exploring Correlations\n",
    "Now we will look at correlations in this dataset.  There are a LOT of columns here, so we will select some that we think might be interesting.  Feel free to add and remove columns from the list"
   ]
  },
  {
   "cell_type": "code",
   "execution_count": null,
   "id": "417002dc-853a-44c9-9d97-bbb72de69a24",
   "metadata": {},
   "outputs": [],
   "source": [
    "variables = [\"DOC (mg/L)\", # Dissolved organic carbon\n",
    "             \"HIX\", # Humification Index\n",
    "             \"BIX\", # Freshness Index\n",
    "             \"FI\", # Florescene Index\n",
    "             \"Percent Protein\"]"
   ]
  },
  {
   "cell_type": "markdown",
   "id": "48ebd7a8-5115-4cd8-80e1-013fc3c1809e",
   "metadata": {},
   "source": [
    "Now we will subset our dataframe so that we are only working with the values we care about, and avoid things that might confuse python, like sample IDs"
   ]
  },
  {
   "cell_type": "code",
   "execution_count": null,
   "id": "ac38a3da-b726-46f8-8073-0892c4bf2790",
   "metadata": {},
   "outputs": [],
   "source": [
    "df_subset = df[variables]\n",
    "df_subset"
   ]
  },
  {
   "cell_type": "markdown",
   "id": "93d3a1be-a9e1-483e-83ab-dc7876b5a695",
   "metadata": {},
   "source": [
    "Dataframes hace a method `corr`, which generate a correlation matrix, which scores each varaible pair by how correlated they are using the pearson correlation coefficent.  We can pass that to the seaborn heatmap function to get a nice figure:"
   ]
  },
  {
   "cell_type": "code",
   "execution_count": null,
   "id": "4efc76d4-1205-4a2d-877b-8560d716f9cc",
   "metadata": {},
   "outputs": [],
   "source": [
    "sns.heatmap(df_subset.corr(), vmax=1, vmin=-1, cmap=\"seismic\")"
   ]
  },
  {
   "cell_type": "markdown",
   "id": "dced8bb9-7d05-48b9-9e78-82ddc3a9e2d5",
   "metadata": {},
   "source": [
    "Lets look at how these data compare directly.  Seaborn has a plot for that!  The pairplot!  It does a scatterplot of every combination and a histogram of each variable."
   ]
  },
  {
   "cell_type": "code",
   "execution_count": null,
   "id": "c88ea029-0992-46c5-8e7e-4ca16e85c1e3",
   "metadata": {
    "scrolled": true
   },
   "outputs": [],
   "source": [
    "sns.pairplot(df_subset)"
   ]
  },
  {
   "cell_type": "markdown",
   "id": "b4c3b0de-cc06-401b-8a62-0f31af7aef74",
   "metadata": {},
   "source": [
    "### Categorizing Data\n",
    "Seaborn also lets you color data by category in a plot using the \"hue\" parameter.  This is an easy way to plot multiple groups of the same data in the same plot.  We will try categorizing by site"
   ]
  },
  {
   "cell_type": "code",
   "execution_count": null,
   "id": "5f74e194-d44c-414d-af97-cdf1c154b546",
   "metadata": {},
   "outputs": [],
   "source": [
    "variables.append(\"Site\")\n",
    "df_subset = df[variables]\n",
    "sns.pairplot(df_subset, hue=\"Site\")"
   ]
  },
  {
   "cell_type": "markdown",
   "id": "c5b696ed-6826-4d1f-9396-ff7aa5dadc2e",
   "metadata": {},
   "source": [
    " ## <font color = green> IN-CLASS PRACTICE </font> \n",
    "Choose a pair of variables to explore in more depth with seaborn.  I suggest using the function `regplot` (https://seaborn.pydata.org/generated/seaborn.regplot.html#seaborn.regplot) but explore the seaborn documentation and use any function or functions you want!"
   ]
  },
  {
   "cell_type": "code",
   "execution_count": null,
   "id": "a54a8c64",
   "metadata": {},
   "outputs": [],
   "source": [
    "sns.regplot(data=df, x=\"DOC (mg/L)\", y=\"HIX\")"
   ]
  },
  {
   "cell_type": "code",
   "execution_count": null,
   "id": "3ca02e4b-01ff-47d8-ae78-2c30ba096787",
   "metadata": {},
   "outputs": [],
   "source": [
    "help(sns.regplot)"
   ]
  },
  {
   "cell_type": "code",
   "execution_count": null,
   "id": "d741ddcd",
   "metadata": {},
   "outputs": [],
   "source": []
  }
 ],
 "metadata": {
  "kernelspec": {
   "display_name": "Python 3 (ipykernel)",
   "language": "python",
   "name": "python3"
  },
  "language_info": {
   "codemirror_mode": {
    "name": "ipython",
    "version": 3
   },
   "file_extension": ".py",
   "mimetype": "text/x-python",
   "name": "python",
   "nbconvert_exporter": "python",
   "pygments_lexer": "ipython3",
   "version": "3.12.4"
  }
 },
 "nbformat": 4,
 "nbformat_minor": 5
}
