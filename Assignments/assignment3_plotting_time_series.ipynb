{
 "cells": [
  {
   "cell_type": "markdown",
   "id": "94705b89",
   "metadata": {},
   "source": [
    "# Assignment 3: A year of weather in Boulder\n",
    "\n",
    "(YOUR NAME HERE)\n",
    "\n",
    "(TODAY'S DATE HERE)"
   ]
  },
  {
   "cell_type": "markdown",
   "id": "1498502a",
   "metadata": {},
   "source": [
    "*In solving each of the problems below, please include text comments and description for your future self, so that when you look back you'll have notes on how you solved these problems!*"
   ]
  },
  {
   "cell_type": "markdown",
   "id": "0d15e8cb",
   "metadata": {},
   "source": [
    "## Part 1: Reading in data and adding columns\n",
    "\n",
    "*The data file `boulder_weather2022.csv` contains daily weather data for each day of the year 2022. The data include:*\n",
    "\n",
    "- Year (2022)\n",
    "- Month (1-12)\n",
    "- Day (1-31)\n",
    "- minimum temperature on that day (Tmin, in degrees Farenheit)\n",
    "- maximum temperature on that day (Tmax, in degrees Farenheit)\n",
    "- precipitation depth (Precip, in inches)\n",
    "- depth of snow that fell that day (Snow, in inches)\n",
    "- current depth of snow on the ground (Snowcover, in inches)\n",
    "\n",
    "*The \"no data\" code is -999.*\n",
    "\n",
    "*Write a function that reads the contents of this data file into a pandas DataFrame and **adds two columns**: one for the \"Day of Year\", which starts at January 1st = 1 and ends with December 31st = 365, and one that has the daily precipitation converted from inches to mm (mm = inches x 25.4). Your function should take a filename as an input parameter, and return the DataFrame. How you read the data file is up to you, but we highly recommend the pandas `read_csv()` function!*\n",
    "\n",
    "*Test your function by displaying the DataFrame to make sure it looks correct.* "
   ]
  },
  {
   "cell_type": "code",
   "execution_count": null,
   "id": "1b81b3be",
   "metadata": {},
   "outputs": [],
   "source": []
  },
  {
   "cell_type": "markdown",
   "id": "ef098267",
   "metadata": {},
   "source": [
    "## Part 2: Plotting temperature\n",
    "\n",
    "*Write and run a function that plots an array of daily low and high temperature values against day-of-the-year. Your function should:*\n",
    "\n",
    "- Include a brief docstring\n",
    "- Have 3 required parameters: an array of day numbers, an array of daily low temperatures, and an array of daily high temperatures (here \"array\" can be a pandas `Series` or a numpy `ndarray`)\n",
    "- Have one optional parameter: a string that will be displayed as a title; the value should default to `None`, and if it is `None`, a generic title like \"Temperature data\" should be displayed\n",
    "- Use a different color or line style for low versus high temperatures\n",
    "- Label the axes\n",
    "- Have a title\n",
    "- Include a legend that defines the two curves\n",
    "- Add gridlines to your plot using `plt.grid(True)`"
   ]
  },
  {
   "cell_type": "markdown",
   "id": "25a177fa",
   "metadata": {},
   "source": [
    "*Since we didn't cover legends in any detail in class, here are examples that show two alternative ways to use legends. Method 1 puts the text in a list that gets passed to `legend()`:*\n",
    "```\n",
    "plt.plot([0, 1], [2, 1], \"b\")\n",
    "plt.plot([0, 1], [1.5, 2], \"r\")\n",
    "plt.xlabel(\"(x-axis label here)\")\n",
    "plt.ylabel(\"(y-axis label here)\")\n",
    "plt.title(\"This is my title\")\n",
    "plt.legend([\"Blue curve\", \"Red curve\"])\n",
    "```\n",
    "\n",
    "*Method 2 uses the optional `label` keyword argument of the `plot()` function:*\n",
    "```\n",
    "plt.plot([0, 1], [2, 1], \"b\", label=\"Blue curve\")\n",
    "plt.plot([0, 1], [1.5, 2], \"r\", label=\"Red curve\")\n",
    "plt.xlabel(\"(x-axis label here)\")\n",
    "plt.ylabel(\"(y-axis label here)\")\n",
    "plt.title(\"This is my title\")\n",
    "plt.legend()\n",
    "```\n",
    "\n"
   ]
  },
  {
   "cell_type": "code",
   "execution_count": null,
   "id": "04db3700",
   "metadata": {},
   "outputs": [],
   "source": []
  },
  {
   "cell_type": "markdown",
   "id": "0ff7e6d3",
   "metadata": {},
   "source": [
    "## Part 3: Analyzing precipitation\n",
    "\n",
    "*It's often said that Boulder has \"300 sunny days a year\". Is that really true? Let's test it for the year 2022.*\n",
    "\n",
    "*Write a function that takes your DataFrame as an input argument. Your function should loop over each day in the record, adding up the following:*\n",
    "\n",
    "- the total precipitation depth over the whole year\n",
    "- the number of sunny days (no precipitation)\n",
    "- the number of snowy days (days when the data item \"Snow\" is greater than zero)\n",
    "- the number of rainy days (there is precipitation but snow is zero)\n",
    "- the number of unknown days (either \"Precip\" or \"Snow\" has the no-data code -999)\n",
    "\n",
    "*Your function should either report these directly, or `return` them so that the code that calls it can report them (or both).*\n",
    "\n",
    "*(Note: you can find the number of rows in a pandas DataFrame using the `len()` function)*\n"
   ]
  },
  {
   "cell_type": "code",
   "execution_count": null,
   "id": "4ea7da42",
   "metadata": {},
   "outputs": [],
   "source": []
  },
  {
   "cell_type": "markdown",
   "id": "736d325a",
   "metadata": {},
   "source": [
    "## Part 4: Filtering data\n",
    "\n",
    "*There are a number of days in the dataset for which the precipitation depth is listed as -999. This means there is no data available for these days. Before plotting precipitation data, it's important to filter out these invalid data points.*\n",
    "\n",
    "*Write a function that takes your DataFrame as an input, and returns two arrays (either numpy arrays or pandas Series): the precipitation depth (in mm) on days when the precipitation value is not -999, and the corresponding day-of-year numbers for those days. Verify that the number of days with valid data is consistent what you got in Part 3, when you counted how many days lack valid data.*\n",
    "\n",
    "### Some hints\n",
    "\n",
    "*A convenient way to extract valid data is to use boolean indexing. You can find an example showing how boolean indexing works in the class notebook from September 27, \"09_introduction_to_numpy\" (page down toward the end of the notebook).*\n",
    "\n",
    "*One approach is to apply boolean indexing directly to a column in a pandas DataFrame. For example, if your Boulder weather DataFrame is called `bwx`, the following example operation returns a boolean array indicating whether the minimum temperature was above or below 32 F:*\n",
    "\n",
    "```\n",
    "bwx[\"Tmin\"] < 32.0\n",
    "```\n",
    "\n",
    "*You can use boolean indexing to extract and store just those values for which your condition applies. For example, the following line gets a pandas Series containing **only** the minimum temperature on sub-freezing days and assigns it to a new variable called `frost_day_min`:*\n",
    "\n",
    "```\n",
    "frost_day_tmin = bwx[\"Tmin\"][bwx[\"Tmin\"] < 32.0]\n",
    "```\n",
    "\n",
    "*Similarly, here's a line that gets the corresponding values in a column called \"DayOfYear\"*:\n",
    "\n",
    "```\n",
    "frost_days = bwx[\"DayOfYear\"][bwx[\"Tmin\"] < 32.0]\n",
    "```\n",
    "\n",
    "*If you find this method confusing and would rather work with numpy arrays, you can use the pandas `to_numpy()` method to convert an individual column into a numpy array. For example, the following line creates a new numpy array called `tmin` that contains the values in your DataFrame's \"Tmin\" column:*\n",
    "\n",
    "```\n",
    "tmin = bwx[\"Tmin\"].to_numpy()\n",
    "```\n",
    "\n",
    "*Alternatively, if boolean indexing seems too confusing, you could use a `for` loop and an `if` statement to extract values that meet your criteria. The choice of approach is up to you, but however you do it, be thinking about the pros and cons of different approaches - that's a key part of the learning process for coding!*"
   ]
  },
  {
   "cell_type": "code",
   "execution_count": null,
   "id": "1682a65c",
   "metadata": {},
   "outputs": [],
   "source": []
  },
  {
   "cell_type": "markdown",
   "id": "818d28bd",
   "metadata": {},
   "source": [
    "## Part 5: Plotting precipitation\n",
    "\n",
    "*Write a function that uses the matplotlib.pyplot function `bar()` to make a bar graph showing the depth of precipitation for each day of the year. Your function should take an array (or list or one column of a DataFrame) of days as one argument, an array (or list etc.) of precipitation depth as another, and an optional third argument for the plot title. The plot should have axes labeled, and title.*\n",
    "\n",
    "### Hints\n",
    "\n",
    "*The `bar()` function has two required arguments: the x-axis values (which in your case represent the days of the year), and the height for the bars (which here is the precipitation depth in mm).*"
   ]
  },
  {
   "cell_type": "code",
   "execution_count": null,
   "id": "b19d9d76",
   "metadata": {},
   "outputs": [],
   "source": []
  },
  {
   "cell_type": "markdown",
   "id": "e5a03448",
   "metadata": {},
   "source": [
    "## Part 6 (for graduate students, or as a bonus point)\n",
    "\n",
    "*It would be nice if we could stack the plots on top of one another and compare them directly. Matplotlib provides a way to combine multiple plots into a single figure using the `subplots()` function. There is a nice short tutorial on `subplot()` here: [https://matplotlib.org/stable/gallery/subplots_axes_and_figures/subplots_demo.html](https://matplotlib.org/stable/gallery/subplots_axes_and_figures/subplots_demo.html). The `subplots()` function returns two objects: a `figure` object and either a single `axis` object (if there's just one) or an array of `axis` objects.*\n",
    "\n",
    "*Here's a tiny example that illustrates how to make two vertically stacked plots:*\n",
    "\n",
    "```\n",
    "import numpy as np\n",
    "import matplotlib.pyplot as plt\n",
    "\n",
    "x = np.array([0, 1, 2]) # some made-up data for x values...\n",
    "y = np.array([0, 2, 1]) # ...and y values\n",
    "fig, axs = plt.subplots(2) # create figure (fig) with 2 vertically stacked axes (axs)\n",
    "axs[0].plot(x, y) # axs is an array of axis objects; here we plot in the first one\n",
    "axs[1].plot(x, -y) # and here we plot in the second one\n",
    "axs[1].set_xlabel(\"My lower x-axis\") # here's an example of how to label axes\n",
    "```\n",
    "\n",
    "*Use `subplots()` to create plots of temperature and precipitation stacked on top of one another.*\n"
   ]
  },
  {
   "cell_type": "code",
   "execution_count": null,
   "id": "0d8d3e35",
   "metadata": {},
   "outputs": [],
   "source": []
  },
  {
   "cell_type": "markdown",
   "id": "b6af395f",
   "metadata": {},
   "source": [
    "## Part 7 (optional: bonus point for all)\n",
    "\n",
    "*\"Day of the year\" is easy to plot, but for humans who tend to think in terms of months, it is not ideal. Modify your plotting functions for temperature and precipitation to include months on the x-axis.*\n",
    "\n",
    "### Hints\n",
    "\n",
    "\n",
    "*There are various ways to handle calendar dates. One is to use the matplotlib `DataFormatter` class. Here's a simple example:*\n",
    "\n",
    "```\n",
    "import numpy as np\n",
    "import matplotlib.pyplot as plt\n",
    "from matplotlib.dates import DateFormatter\n",
    "\n",
    "fig, ax = plt.subplots()\n",
    "ax.scatter(np.arange(365), np.arange(365) % 30.4)  # made-up data for illustration\n",
    "date_form = DateFormatter(\"%m/%d\")\n",
    "ax.xaxis.set_major_formatter(date_form)\n",
    "```\n",
    "\n",
    "*There's a nice tutorial lesson on this and other tricks here: [https://www.earthdatascience.org/courses/use-data-open-source-python/use-time-series-data-in-python/date-time-types-in-pandas-python/customize-dates-matplotlib-plots-python/](https://www.earthdatascience.org/courses/use-data-open-source-python/use-time-series-data-in-python/date-time-types-in-pandas-python/customize-dates-matplotlib-plots-python/)*"
   ]
  },
  {
   "cell_type": "code",
   "execution_count": null,
   "id": "de0e0521",
   "metadata": {},
   "outputs": [],
   "source": []
  }
 ],
 "metadata": {
  "kernelspec": {
   "display_name": "Python 3 (ipykernel)",
   "language": "python",
   "name": "python3"
  },
  "language_info": {
   "codemirror_mode": {
    "name": "ipython",
    "version": 3
   },
   "file_extension": ".py",
   "mimetype": "text/x-python",
   "name": "python",
   "nbconvert_exporter": "python",
   "pygments_lexer": "ipython3",
   "version": "3.12.4"
  }
 },
 "nbformat": 4,
 "nbformat_minor": 5
}
