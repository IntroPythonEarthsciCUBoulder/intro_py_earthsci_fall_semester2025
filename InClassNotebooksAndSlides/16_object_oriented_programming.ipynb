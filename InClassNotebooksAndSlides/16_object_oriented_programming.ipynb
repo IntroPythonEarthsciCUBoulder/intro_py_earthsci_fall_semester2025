{
 "cells": [
  {
   "cell_type": "markdown",
   "metadata": {
    "slideshow": {
     "slide_type": "slide"
    }
   },
   "source": [
    "# Object-Oriented Programming\n",
    "\n",
    "*CU Boulder, Introduction to Python Programming for Geoscientists, October 2023*\n",
    "\n",
    "*NOTE: This lesson was adapted from \"Object Oriented Programming\" by Dr. Mark Piper, which is part of the [CSDMS Ivy](https://github.com/csdms/ivy) collection.*\n",
    "\n",
    "### Goals\n",
    "\n",
    "- Describe and apply concepts of object-oriented programming\n",
    "- Create classes with attributes, methods, and constructor functions\n",
    "- Use inheritance"
   ]
  },
  {
   "cell_type": "markdown",
   "metadata": {
    "slideshow": {
     "slide_type": "slide"
    }
   },
   "source": [
    "## Python type hints\n",
    "\n",
    "Before diving into object-oriented programming, let's take a look at **[type hints](https://docs.python.org/3/library/typing.html)**.\n",
    "\n",
    "As a dynamically typed language, Python does not require you to explicitly define what kinds of variables should be passed to your functions, or what kind of variables are returned. Type hints provide a way to make your code more readable by providing these definitions.\n",
    "\n",
    "Type hints *do not change what your code does*! They just add an element of readability.\n",
    "\n",
    "Example:"
   ]
  },
  {
   "cell_type": "code",
   "execution_count": null,
   "metadata": {
    "slideshow": {
     "slide_type": "-"
    }
   },
   "outputs": [],
   "source": [
    "# without type hints\n",
    "def greet(name):\n",
    "    return \"Hello, \" + name\n",
    "\n",
    "greet(\"Ghengis\")"
   ]
  },
  {
   "cell_type": "code",
   "execution_count": null,
   "metadata": {
    "slideshow": {
     "slide_type": "-"
    }
   },
   "outputs": [],
   "source": [
    "# with type hints\n",
    "def greet(name: str) -> str:\n",
    "    return \"Hello, \" + name\n",
    "\n",
    "greet(\"Ghengis\")"
   ]
  },
  {
   "cell_type": "markdown",
   "metadata": {
    "slideshow": {
     "slide_type": "slide"
    },
    "tags": []
   },
   "source": [
    "## Overview of object-oriented programming (OOP)\n",
    "\n",
    "- Up to now, we have mostly been learning *procedural programming*, where data structures are separate from the functions that act upon them.\n",
    "\n",
    "- *Object-oriented programming* (OOP) is a powerful and popular programming technique that can makes certain programming tasks much easier.\n",
    "\n",
    "- OOP is based on *objects*, which bundle together data and functions that act upon these data...\n",
    "\n",
    "- ... and *classes*, which describe what data and functions go into an object.\n",
    "\n",
    "- You can use Python's object-oriented features to create your own *classes* and *objects*."
   ]
  },
  {
   "cell_type": "markdown",
   "metadata": {
    "slideshow": {
     "slide_type": "slide"
    }
   },
   "source": [
    "## Concepts: class, instance, object\n",
    "\n",
    "<figure style=\"float: right;\">\n",
    "    <a href=\"https://en.wikipedia.org/wiki/File:Left_side_of_Flying_Pigeon.jpg\"><img src=\"https://upload.wikimedia.org/wikipedia/commons/thumb/4/41/Left_side_of_Flying_Pigeon.jpg/320px-Left_side_of_Flying_Pigeon.jpg\" alt=\"A Flying Pigeon bicycle.\"/></a>\n",
    "    <figcaption><i>Figure 1: A Flying Pigeon bicycle.</i></figcaption>\n",
    "</figure>\n",
    "\n",
    "Let's explore some OOP concepts through bicycles.\n",
    "\n",
    "Bikes share many features.\n",
    "They have wheels, handlebars, pedals, and brakes.\n",
    "On a bicycle,\n",
    "you can move, steer, and stop.\n",
    "\n",
    "As a thought experiment,\n",
    "consider a *class* called `Bike`.\n",
    "Classes are used to organize information.\n",
    "They are made up of data, called *attributes*,\n",
    "and functions that act on these data, called *methods*.\n",
    "In our `Bike` class,\n",
    "wheels, handlebars, pedals, and brakes are attributes (what makes a `Bike`),\n",
    "and the behaviors of move, steer, and stop are methods (what a `Bike` does).\n",
    "\n",
    "Classes are generalizations.\n",
    "An *object* is a particular *instance* of a class.\n",
    "For example,\n",
    "The Flying Pigeon in Figure 1 in an instance of a bike.\n",
    "We can see that it has wheels, handlebars, pedals, and brakes,\n",
    "and, in our thought experiment,\n",
    "these attributes could be used in the behaviors of move, steer, and stop.\n",
    "\n",
    "Let's go further.\n",
    "Consider different kinds of bikes, such as mountain bikes versus road bikes.\n",
    "Both mountain bikes and road bikes have all the attributes and methods of bikes,\n",
    "but there are differences; for example,\n",
    "mountain bikes tend to have wider tires and flat handlebars,\n",
    "while road bikes have thinner tires and drop bars.\n",
    "In OOP, we can handle this speciation through *inheritance*:\n",
    "we can *subclass* `Bike` into new `MountainBike` and `RoadBike` classes.\n",
    "These new classes have all the aspects of a `Bike`,\n",
    "and they can define new ones,\n",
    "such as a suspension attribute for a `MountainBike`."
   ]
  },
  {
   "cell_type": "markdown",
   "metadata": {
    "slideshow": {
     "slide_type": "slide"
    }
   },
   "source": [
    "## Some examples we have already seen\n",
    "\n",
    "- Numpy arrays\n",
    "\n",
    "  - A numpy array is a special data type called `ndarray`\n",
    "  - `ndarray` is a Python *class*\n",
    "  - Any particular `ndarray` variable is a kind of *object*\n",
    "  - In particular, any numpy array is an *instance* of the *class* called `ndarray`."
   ]
  },
  {
   "cell_type": "code",
   "execution_count": null,
   "metadata": {
    "slideshow": {
     "slide_type": "slide"
    }
   },
   "outputs": [],
   "source": [
    "import numpy as np\n",
    "\n",
    "a = np.zeros(2)\n",
    "help(a)"
   ]
  },
  {
   "cell_type": "markdown",
   "metadata": {
    "slideshow": {
     "slide_type": "slide"
    }
   },
   "source": [
    "## Examples, continued\n",
    "\n",
    "- Pandas DataFrames\n",
    "  - `DataFrame` is a Python *class*\n",
    "  - Any particular `DataFrame` variable is an *instance* of the *class* `DataFrame`.\n"
   ]
  },
  {
   "cell_type": "code",
   "execution_count": null,
   "metadata": {
    "slideshow": {
     "slide_type": "slide"
    }
   },
   "outputs": [],
   "source": [
    "import pandas as pd\n",
    "\n",
    "df = pd.DataFrame()\n",
    "help(df)"
   ]
  },
  {
   "cell_type": "markdown",
   "metadata": {
    "slideshow": {
     "slide_type": "slide"
    }
   },
   "source": [
    "## About classes and objects\n",
    "\n",
    "- An object can have *attributes* that you access with the syntax `object_name.attribute_name`. For example:\n",
    "\n",
    "```\n",
    "my_array.shape   # \"shape\" is an attribute of a numpy ndarray\n",
    "my_data_frame.columns   # \"columns\" is an attribute of a pandas DataFrame\n",
    "```\n",
    "\n",
    "- An object can have *methods*: functions that act specifically on that particular object. For example:\n",
    "\n",
    "```\n",
    "my_array.mean()  # mean of the values in the array\n",
    "my_data_frame.to_clipboard()  # copy to system clipboard\n",
    "```\n"
   ]
  },
  {
   "cell_type": "markdown",
   "metadata": {
    "slideshow": {
     "slide_type": "slide"
    }
   },
   "source": [
    "## An example: rectangles\n",
    "\n",
    "- Imagine we're working on a project where we need to represent a set of rectangles that represent locations of environmental projects\n",
    "\n",
    "- For each rectangle, we need to record the location and size \n",
    "\n",
    "- To do this, we'll define a `class` called `Rectangle`\n",
    "\n",
    "- Here's a first cut:\n"
   ]
  },
  {
   "cell_type": "code",
   "execution_count": null,
   "metadata": {
    "slideshow": {
     "slide_type": "-"
    }
   },
   "outputs": [],
   "source": [
    "class Rectangle():  # class definitions are similar to functions\n",
    "    lower_left_x = 1.0\n",
    "    lower_left_y = 2.0\n",
    "    width = 4.0  # an example of a class attribute\n",
    "    height = 3.0  # another"
   ]
  },
  {
   "cell_type": "code",
   "execution_count": null,
   "metadata": {
    "slideshow": {
     "slide_type": "-"
    }
   },
   "outputs": [],
   "source": [
    "myrect = Rectangle()  # myrect is an object of class Rectangle\n",
    "print(myrect.width, myrect.height)  # syntax is: <obj name>.<attribute name>\n",
    "print(type(myrect))"
   ]
  },
  {
   "cell_type": "markdown",
   "metadata": {
    "slideshow": {
     "slide_type": "slide"
    }
   },
   "source": [
    "## *Constructor functions*\n",
    "\n",
    "A problem with our simple class is that it hard-wires the values of x and y. We can solve this problem by adding a *constructor function*.\n",
    "\n",
    "A *constructor function* is executed automatically when an object is created.\n",
    "\n",
    "In Python, the constructor function (for any class) is called `__init__()`.\n",
    "\n",
    "Like any other function, a constructor can have parameters.\n",
    "\n",
    "The parameters are passed when the object is created.\n",
    "\n",
    "Constructor functions normally take a first argument called `self`, which is a reference to the object itself, and is passed automatically."
   ]
  },
  {
   "cell_type": "markdown",
   "metadata": {
    "slideshow": {
     "slide_type": "slide"
    }
   },
   "source": [
    "## Adding a constructor function to our example\n",
    "\n",
    "The code below defines a `Rectangle` class that includes a constructor. The constructor has two required parameters, representing the coordinates of the lower-left corner. Here we're giving parameters different names from the corresponding attributes just to illustrate that the names don't have to be the same. (But it would work just as well, and our code would probably be less confusing, if for example we called with the width parameter `width` instead of `wd`). "
   ]
  },
  {
   "cell_type": "code",
   "execution_count": null,
   "metadata": {
    "slideshow": {
     "slide_type": "slide"
    }
   },
   "outputs": [],
   "source": [
    "class Rectangle():\n",
    "\n",
    "    def __init__(self, xll, yll, wd, ht):\n",
    "    \n",
    "        self.lower_left_x = xll\n",
    "        self.lower_left_y = yll\n",
    "        self.width = wd\n",
    "        self.height = ht"
   ]
  },
  {
   "cell_type": "code",
   "execution_count": null,
   "metadata": {
    "slideshow": {
     "slide_type": "slide"
    }
   },
   "outputs": [],
   "source": [
    "myrect = Rectangle(2.0, 1.0, 4.0, 3.0)\n",
    "print(\n",
    "    myrect.lower_left_x,\n",
    "    myrect.lower_left_y,\n",
    "    myrect.width,\n",
    "    myrect.height\n",
    ")"
   ]
  },
  {
   "cell_type": "markdown",
   "metadata": {
    "slideshow": {
     "slide_type": "slide"
    }
   },
   "source": [
    "## Being `self`-ish\n",
    "\n",
    "`self` allows an object to access its own attributes and methods. Here's a simple example where we add a new *method* that uses `self` to report on its attributes, as well as its Python `id`:"
   ]
  },
  {
   "cell_type": "code",
   "execution_count": null,
   "metadata": {
    "slideshow": {
     "slide_type": "slide"
    }
   },
   "outputs": [],
   "source": [
    "class Rectangle:\n",
    "\n",
    "    def __init__(self, lower_left_x, lower_left_y, width, height):\n",
    "\n",
    "        self.lower_left_x = lower_left_x\n",
    "        self.lower_left_y = lower_left_y\n",
    "        self.width = width\n",
    "        self.height = height\n",
    "\n",
    "    def report(self):\n",
    "        print(\"I am an object of type:\")\n",
    "        print(type(self))\n",
    "        print(\n",
    "            \"My lower-left corner coordinates are\",\n",
    "            (self.lower_left_x, self.lower_left_y),\n",
    "        )\n",
    "        print(\"My width is\", self.width, \"and my height is\", self.height)"
   ]
  },
  {
   "cell_type": "code",
   "execution_count": null,
   "metadata": {
    "slideshow": {
     "slide_type": "slide"
    }
   },
   "outputs": [],
   "source": [
    "myrect = Rectangle(15, 16, 6.34, 1.27)\n",
    "myrect.report()"
   ]
  },
  {
   "cell_type": "markdown",
   "metadata": {
    "slideshow": {
     "slide_type": "slide"
    }
   },
   "source": [
    "## Adding methods\n",
    "\n",
    "*Methods*, also known as *member functions*, become especially useful when they act directly on an object's attributes.\n",
    "\n",
    "Here's an example that adds a method to calculate the area of the rectangle. We also add some docstrings for readability."
   ]
  },
  {
   "cell_type": "code",
   "execution_count": null,
   "metadata": {
    "slideshow": {
     "slide_type": "slide"
    }
   },
   "outputs": [],
   "source": [
    "class Rectangle():\n",
    "    \"\"\"\n",
    "    Data and methods for a rectangle.\n",
    "    \"\"\"\n",
    "\n",
    "    def __init__(self, lower_left_x, lower_left_y, width, height):\n",
    "        \"\"\"Initialize the Rectangle object.\"\"\"\n",
    "        self.lower_left_x = lower_left_x\n",
    "        self.lower_left_y = lower_left_y\n",
    "        self.width = width\n",
    "        self.height = height\n",
    "\n",
    "    def calc_area(self):\n",
    "        \"\"\"Calculate and return the area of the rectangle.\"\"\"\n",
    "        return self.width * self.height"
   ]
  },
  {
   "cell_type": "code",
   "execution_count": null,
   "metadata": {
    "slideshow": {
     "slide_type": "slide"
    }
   },
   "outputs": [],
   "source": [
    "myrect = Rectangle(15, 16, 4.0, 3.0)\n",
    "rect_area = myrect.calc_area()\n",
    "print(\"This rectangle's area is\", rect_area)"
   ]
  },
  {
   "cell_type": "markdown",
   "metadata": {
    "slideshow": {
     "slide_type": "slide"
    }
   },
   "source": [
    "### <div style=\"color:green\">In-class practice</div>\n",
    "\n",
    "Write a version of the above class that adds a method to find and return the coordinates of the four points in the rectangle, as a list of 2-element tuples.\n",
    "\n",
    "Test it out with a rectangle that has coordinates (1, 2) as its lower-left corner, a width of 4, and a height of 3. The coordinates should then be: `[(1, 2), (5, 2), (5, 5), (1, 5)]`"
   ]
  },
  {
   "cell_type": "code",
   "execution_count": null,
   "metadata": {
    "slideshow": {
     "slide_type": "-"
    }
   },
   "outputs": [],
   "source": [
    "# Your code here\n"
   ]
  },
  {
   "cell_type": "markdown",
   "metadata": {
    "slideshow": {
     "slide_type": "slide"
    }
   },
   "source": [
    "## Inheritance\n",
    "\n",
    "Suppose we want to represent not just rectangles, but other shapes too. \n",
    "\n",
    "We could create a unique class for each one, but that would require some duplicate code.\n",
    "\n",
    "Instead, we will create a **base class** called `Shape`, and define a few different **subclasses** that inherit properties from this base class."
   ]
  },
  {
   "cell_type": "markdown",
   "metadata": {
    "slideshow": {
     "slide_type": "slide"
    }
   },
   "source": [
    "Figure 2 shows [class diagrams](https://en.wikipedia.org/wiki/Class_diagram) for four classes,\n",
    "`Shape`, `Circle`, `Rectangle`, and `Square`.\n",
    "`Shape` represents a generic polygon.\n",
    "It is *abstract*. \n",
    "\n",
    "`Circle` and `Rectangle` are subclassed from `Shape`.\n",
    "A square is a special case of a rectangle,\n",
    "so the `Square` class is subclassed from `Rectangle`.\n",
    "\n",
    "Refer back to this diagram as we explore the details of these classes below."
   ]
  },
  {
   "cell_type": "markdown",
   "metadata": {
    "slideshow": {
     "slide_type": "slide"
    },
    "tags": []
   },
   "source": [
    "<figure>\n",
    "    <img src=\"https://raw.githubusercontent.com/csdms/ivy/main/lessons/python/media/shapes-uml-diagram.png\" alt=\"UML class diagrams for Shape, Circle, Rectangle, and Square.\"/>\n",
    "    <figcaption><i>Figure 2: Class diagrams for Shape, Circle, Rectangle, and Square.</i></figcaption>\n",
    "</figure>"
   ]
  },
  {
   "cell_type": "markdown",
   "metadata": {
    "slideshow": {
     "slide_type": "slide"
    }
   },
   "source": [
    "Before we start, import NumPy and matplotlib, which we'll use in the examples below."
   ]
  },
  {
   "cell_type": "code",
   "execution_count": null,
   "metadata": {
    "slideshow": {
     "slide_type": "-"
    },
    "tags": []
   },
   "outputs": [],
   "source": [
    "import numpy as np\n",
    "import matplotlib.pyplot as plt"
   ]
  },
  {
   "cell_type": "markdown",
   "metadata": {
    "slideshow": {
     "slide_type": "slide"
    }
   },
   "source": [
    "### Shape\n",
    "\n",
    "Here's our definition of a shape. (From here on in this lesson, we'll use type hints to help express the kinds of data structures we expect)."
   ]
  },
  {
   "cell_type": "code",
   "execution_count": null,
   "metadata": {
    "slideshow": {
     "slide_type": "-"
    },
    "tags": []
   },
   "outputs": [],
   "source": [
    "class Shape:\n",
    "    def __init__(self, x: np.ndarray, y: np.ndarray) -> None:\n",
    "        self.x = x\n",
    "        self.y = y\n",
    "        self.n_sides = len(x)\n",
    "        self.area = None\n",
    "\n",
    "    def calculate_area(self) -> None:\n",
    "        pass\n",
    "\n",
    "    def draw(self) -> None:\n",
    "        for i in range(len(self.x) - 1):\n",
    "            plt.plot([self.x[i], self.x[i + 1]], [self.y[i], self.y[i + 1]], color=\"b\")\n",
    "        plt.plot([self.x[-1], self.x[0]], [self.y[-1], self.y[0]], color=\"b\")"
   ]
  },
  {
   "cell_type": "markdown",
   "metadata": {
    "slideshow": {
     "slide_type": "slide"
    }
   },
   "source": [
    "`Shape` has three methods,\n",
    "`__init__` (the class *constructor*),\n",
    "`calculate_area`, and `draw`.\n",
    "\n",
    "In the constructor,\n",
    "we set up four attributes of a shape: `x`, `y`, `n_sides`, and `area`.\n",
    "\n",
    "The `draw` method takes advantage of the fact that the procedure to draw a polygon is the same regardless of the shape: we want to draw line segments between each pair of consecutive points.\n",
    "\n",
    "Since we don't know how to calculate the area of a generic shape,\n",
    "we leave the `calculate_area` method empty.\n",
    "Subclasses of `Shape` will implement `calculate_area` using a formula for the particular shape."
   ]
  },
  {
   "cell_type": "markdown",
   "metadata": {
    "slideshow": {
     "slide_type": "slide"
    }
   },
   "source": [
    "### Rectangle\n",
    "\n",
    "There are many ways to define a rectangle.\n",
    "We'll specify the lower left corner,\n",
    "the width, and the height to make a `Rectangle` class.\n",
    "Like `Circle`,\n",
    "`Rectangle` inherits from `Shape`."
   ]
  },
  {
   "cell_type": "code",
   "execution_count": null,
   "metadata": {
    "slideshow": {
     "slide_type": "-"
    },
    "tags": []
   },
   "outputs": [],
   "source": [
    "class Rectangle(Shape):\n",
    "    def __init__(\n",
    "        self, lower_left: tuple = (1.0, 1.0), width: float = 3.0, height: float = 2.0\n",
    "    ) -> None:\n",
    "        self.ll = lower_left\n",
    "        self.w = width\n",
    "        self.h = height\n",
    "        x = [self.ll[0], self.ll[0] + self.w, self.ll[0] + self.w, self.ll[0]]\n",
    "        y = [self.ll[1], self.ll[1], self.ll[1] + self.h, self.ll[1] + self.h]\n",
    "        super().__init__(x, y)\n",
    "\n",
    "    def calculate_area(self) -> None:\n",
    "        self.area = self.w * self.h"
   ]
  },
  {
   "cell_type": "markdown",
   "metadata": {
    "slideshow": {
     "slide_type": "-"
    }
   },
   "source": [
    "`Rectangle` is subclassed from `Shape`,\n",
    "so it automatically inherits all of the `Shape`\n",
    "attributes (`x`, `y`, `n_sides`, `area`)\n",
    "and\n",
    "methods (`__init__`, `calculate_area`, and `draw`).\n",
    "\n",
    "The inherited `calculate_area` method is *overridden* with a formula for calculating the area of a rectangle."
   ]
  },
  {
   "cell_type": "markdown",
   "metadata": {
    "slideshow": {
     "slide_type": "slide"
    }
   },
   "source": [
    "## What's so `super` about this?\n",
    "\n",
    "The `super()` function accesses the class' base class. In the example above, the line\n",
    "```\n",
    "super().__init__(x, y)\n",
    "```\n",
    "says: \"call the `__init__` method of class `Shape` and pass it two arguments, x and y\"."
   ]
  },
  {
   "cell_type": "code",
   "execution_count": null,
   "metadata": {
    "slideshow": {
     "slide_type": "-"
    }
   },
   "outputs": [],
   "source": [
    "# Create a rectange\n",
    "myrect = Rectangle((5, 1), 4, 3)\n",
    "print(myrect.area)\n",
    "myrect.calculate_area()\n",
    "print(\"The area is\", myrect.area)"
   ]
  },
  {
   "cell_type": "markdown",
   "metadata": {
    "slideshow": {
     "slide_type": "slide"
    }
   },
   "source": [
    "Now let's draw it. Notice that class `Rectangle` does not define a method called `draw`. But it inherits from `Shape`, which does. So when we execute the line:\n",
    "```\n",
    "myrect.draw()\n",
    "```\n",
    "the Python interpreter executes the `draw` method of `Shape`. "
   ]
  },
  {
   "cell_type": "code",
   "execution_count": null,
   "metadata": {
    "slideshow": {
     "slide_type": "-"
    }
   },
   "outputs": [],
   "source": [
    "# Draw the rectangle\n",
    "myrect.draw()"
   ]
  },
  {
   "cell_type": "markdown",
   "metadata": {
    "slideshow": {
     "slide_type": "slide"
    }
   },
   "source": [
    "### Square\n",
    "A square is a special case of a rectangle,\n",
    "so it makes sense to subclass `Square` from `Rectangle`.\n",
    "Inheritance makes the code really straightforward."
   ]
  },
  {
   "cell_type": "code",
   "execution_count": null,
   "metadata": {
    "slideshow": {
     "slide_type": "-"
    },
    "tags": []
   },
   "outputs": [],
   "source": [
    "class Square(Rectangle):\n",
    "    def __init__(self, lower_left: tuple = (1.0, 1.0), width: float = 2.0) -> None:\n",
    "        super().__init__(lower_left, width, width)"
   ]
  },
  {
   "cell_type": "code",
   "execution_count": null,
   "metadata": {
    "slideshow": {
     "slide_type": "-"
    }
   },
   "outputs": [],
   "source": [
    "mysq = Square((4, 3), 2.0)"
   ]
  },
  {
   "cell_type": "code",
   "execution_count": null,
   "metadata": {
    "slideshow": {
     "slide_type": "-"
    },
    "tags": []
   },
   "outputs": [],
   "source": [
    "for coordinate in zip(mysq.x, mysq.y):\n",
    "    print(coordinate)"
   ]
  },
  {
   "cell_type": "markdown",
   "metadata": {
    "slideshow": {
     "slide_type": "slide"
    }
   },
   "source": [
    "Note that the `Square` constructor simply calls the constructor of its superclass `Rectangle` with the *width* argument repeated. `Square` also doesn't need to define its own *calculate_area* method as it can use `Rectangle`'s. And as with `Rectangle`, `Square` inherits the `draw` method, which we can use:"
   ]
  },
  {
   "cell_type": "code",
   "execution_count": null,
   "metadata": {
    "slideshow": {
     "slide_type": "-"
    }
   },
   "outputs": [],
   "source": [
    "# draw a square\n",
    "mysq.draw()"
   ]
  },
  {
   "cell_type": "markdown",
   "metadata": {
    "slideshow": {
     "slide_type": "slide"
    }
   },
   "source": [
    "### Circle\n",
    "\n",
    "A circle is a shape. \n",
    "Here's one way to define a `Circle` class. \n",
    "\n",
    "(One tricky issue with drawing circles is that, mathematically speaking, a circle has infinitely many points. Here we're arbitrarily using 100 points to approximate it)."
   ]
  },
  {
   "cell_type": "code",
   "execution_count": null,
   "metadata": {
    "slideshow": {
     "slide_type": "-"
    },
    "tags": []
   },
   "outputs": [],
   "source": [
    "class Circle(Shape):\n",
    "    def __init__(self, center: tuple = (1.0, 1.0), radius: float = 1.0) -> None:\n",
    "        self.c = center\n",
    "        self.r = radius\n",
    "        theta = np.linspace(0.0, 2 * np.pi, 100)\n",
    "        x = self.c[0] + self.r * np.cos(theta)\n",
    "        y = self.c[1] + self.r * np.sin(theta)\n",
    "        super().__init__(x, y) # call the constructor of the base class\n",
    "\n",
    "    def calculate_area(self) -> None:\n",
    "        self.area = np.pi * self.r**2"
   ]
  },
  {
   "cell_type": "code",
   "execution_count": null,
   "metadata": {
    "slideshow": {
     "slide_type": "-"
    },
    "tags": []
   },
   "outputs": [],
   "source": [
    "mycirc = Circle(center=(10.0, 20.0), radius=4.0)\n",
    "mycirc.calculate_area()\n",
    "print(\"Circle area is\", mycirc.area)"
   ]
  },
  {
   "cell_type": "markdown",
   "metadata": {
    "slideshow": {
     "slide_type": "slide"
    }
   },
   "source": [
    "We can choose how to create a `Circle`.\n",
    "Here, we use a center and a radius.\n",
    "We then use the parametric equation for a circle to translate these\n",
    "into the *(x,y)* coordinate pairs expected by `Shape`."
   ]
  },
  {
   "cell_type": "markdown",
   "metadata": {
    "slideshow": {
     "slide_type": "-"
    }
   },
   "source": [
    "Make an instance of `Circle`, specifying a center and radius."
   ]
  },
  {
   "cell_type": "code",
   "execution_count": null,
   "metadata": {
    "slideshow": {
     "slide_type": "-"
    },
    "tags": []
   },
   "outputs": [],
   "source": [
    "circle = Circle(center=(1.0, 1.0), radius=2.0)"
   ]
  },
  {
   "cell_type": "markdown",
   "metadata": {
    "slideshow": {
     "slide_type": "-"
    }
   },
   "source": [
    "Show the values of the circle's center and radius attributes."
   ]
  },
  {
   "cell_type": "code",
   "execution_count": null,
   "metadata": {
    "slideshow": {
     "slide_type": "-"
    },
    "tags": []
   },
   "outputs": [],
   "source": [
    "circle.c"
   ]
  },
  {
   "cell_type": "code",
   "execution_count": null,
   "metadata": {
    "slideshow": {
     "slide_type": "-"
    },
    "tags": []
   },
   "outputs": [],
   "source": [
    "circle.r"
   ]
  },
  {
   "cell_type": "markdown",
   "metadata": {
    "slideshow": {
     "slide_type": "slide"
    }
   },
   "source": [
    "What's the area of the circle?"
   ]
  },
  {
   "cell_type": "code",
   "execution_count": null,
   "metadata": {
    "slideshow": {
     "slide_type": "-"
    },
    "tags": []
   },
   "outputs": [],
   "source": [
    "circle.calculate_area()\n",
    "circle.area"
   ]
  },
  {
   "cell_type": "markdown",
   "metadata": {
    "slideshow": {
     "slide_type": "slide"
    }
   },
   "source": [
    "Let's draw our circle:"
   ]
  },
  {
   "cell_type": "code",
   "execution_count": null,
   "metadata": {
    "slideshow": {
     "slide_type": "-"
    }
   },
   "outputs": [],
   "source": [
    "circle.draw()\n",
    "plt.axis(\"equal\") # use the same scale for x and y axes"
   ]
  },
  {
   "cell_type": "markdown",
   "metadata": {
    "slideshow": {
     "slide_type": "slide"
    }
   },
   "source": [
    "### <div style=\"color:green\">In-class practice (if time)</div>\n",
    "\n",
    "Write a `Triangle` class. \n",
    "\n",
    "(How about a `Pentagon` or a `Hexagon`?!)"
   ]
  },
  {
   "cell_type": "markdown",
   "metadata": {
    "slideshow": {
     "slide_type": "slide"
    }
   },
   "source": [
    "## Other object-oriented things to know about\n",
    "\n",
    "We've covered some core concepts, but there are other concepts and techniques that are commonly used, such as:\n",
    "\n",
    "- [Public, protected, and private access modifiers](https://www.geeksforgeeks.org/access-modifiers-in-python-public-private-and-protected/)\n",
    "- [Abstract base classes](https://docs.python.org/3/library/abc.html)\n",
    "- [Multiple inheritance](https://pythongeeks.org/multiple-inheritance-in-python/)\n",
    "- [Operator overloading](https://www.geeksforgeeks.org/operator-overloading-in-python/)"
   ]
  },
  {
   "cell_type": "markdown",
   "metadata": {
    "slideshow": {
     "slide_type": "slide"
    }
   },
   "source": [
    "## Summary\n",
    "\n",
    "It requires time to become adept at object-oriented programming,\n",
    "but the time is usually well-spent\n",
    "because code that is developed with OOP techniques\n",
    "tends to be more robust and easier to test, maintain, and extend.\n",
    "\n",
    "The concepts from this lesson are explored further in a CSDMS [webinar](https://youtu.be/dLrahDArm4w)\n",
    "by Benjamin Campforts and Mark Piper.\n",
    "You can find the slides used for the webinar [here](https://github.com/csdms/level-up/blob/master/info/Level-3-Object-oriented-Programming.pdf),\n",
    "and a more elaborate example [here](https://github.com/BCampforts/python_corona_simulation)\n",
    "(forked from [@paulvangentcom](https://github.com/paulvangentcom/python_corona_simulation))."
   ]
  },
  {
   "cell_type": "markdown",
   "metadata": {
    "slideshow": {
     "slide_type": "slide"
    }
   },
   "source": [
    "The table below summarizes some OOP terms.\n",
    "\n",
    "| Term | Description |\n",
    "| ---- | ----------- |\n",
    "| object      | a variable that contains its own data + functions that act on the data |\n",
    "| class       | the programming structure that defines what goes into an object |\n",
    "| attribute   | data associated with an object |\n",
    "| method      | a function that belongs to an object |\n",
    "| instance    | synonym for object |\n",
    "| constructor | the function called when an object is created |\n",
    "| inheritance | the mechanism for deriving a new class from an existing class|\n",
    "| subclass    | a class derived through inheritance |\n",
    "| superclass  | the parent of a class |\n",
    "| base class  | synonym for superclass |\n",
    "| override    | when a subclass method takes precedence over the superclass method of the same name |\n",
    "| abstract    | a class or method that can't be used directly; a prototype |\n",
    "| concrete    | an implementation of an abstract class or method in a subclass |"
   ]
  }
 ],
 "metadata": {
  "celltoolbar": "Slideshow",
  "kernelspec": {
   "display_name": "Python 3 (ipykernel)",
   "language": "python",
   "name": "python3"
  },
  "language_info": {
   "codemirror_mode": {
    "name": "ipython",
    "version": 3
   },
   "file_extension": ".py",
   "mimetype": "text/x-python",
   "name": "python",
   "nbconvert_exporter": "python",
   "pygments_lexer": "ipython3",
   "version": "3.12.4"
  }
 },
 "nbformat": 4,
 "nbformat_minor": 4
}
