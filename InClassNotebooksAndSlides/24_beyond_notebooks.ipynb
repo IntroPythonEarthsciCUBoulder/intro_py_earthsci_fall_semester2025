{
 "cells": [
  {
   "cell_type": "markdown",
   "id": "fa0c14b3",
   "metadata": {
    "slideshow": {
     "slide_type": "slide"
    }
   },
   "source": [
    "## Schedule:\n",
    "\n",
    "- Wed 29 Nov: project presentations\n",
    "- Mon 4 Dec: project presentations\n",
    "- Wed 6 Dec: regular class (topic TBA)\n",
    "- Mon 11 Dec: in-class work session and Q/A\n",
    "- Wed 13 Dec: in-class work session and Q/A\n",
    "- Thu 14 Dec: final projects due"
   ]
  },
  {
   "cell_type": "markdown",
   "id": "418d20d5",
   "metadata": {
    "slideshow": {
     "slide_type": "slide"
    }
   },
   "source": [
    "# Beyond notebooks\n",
    "\n",
    "*(CU Boulder GEOL 3600/5700 Introduction to Python Programming, Nov 2023)*\n",
    "\n",
    "### Goals\n",
    "\n",
    "- Use an interactive IPython or Python console\n",
    "- Write and run .py scripts"
   ]
  },
  {
   "cell_type": "markdown",
   "id": "2ef9b390",
   "metadata": {
    "slideshow": {
     "slide_type": "slide"
    }
   },
   "source": [
    "## Notebook pros and cons\n",
    "\n",
    "- Pros\n",
    "  - Combines code, text, images, & graphical output\n",
    "  - Great for documenting workflows\n",
    "  - Easy to play around, test out ideas\n",
    "- Cons\n",
    "  - Harder to \"launch and leave\" for long jobs\n",
    "  - Running cells out of order can cause confusion\n",
    "  - Persistence of variables defined in prior runs can make debugging harder\n",
    "  \n",
    "Sometimes the overhead of a notebook isn't needed for a quick line or two of code.\n",
    "\n",
    "For larger problems, sometimes a start-to-finish code is better handled in a separate .py file."
   ]
  },
  {
   "cell_type": "markdown",
   "id": "349522c6",
   "metadata": {
    "slideshow": {
     "slide_type": "slide"
    }
   },
   "source": [
    "## The interactive Python console\n",
    "\n",
    "- Interactive Python console allows you to run one line of code at a time\n",
    "- Useful for quick calculations or tests\n",
    "- Two available consoles:\n",
    "  - Regular Python console\n",
    "  - Interactive \"IPython\" (\"I\" = \"interactive\") console\n",
    "- To run an IPython console from a Jupyter Lab instance, use the Launcher\n",
    "- To run a console from a terminal:\n",
    "  - `python` (regular)\n",
    "  - `ipython` (interactive)\n",
    "  \n",
    "(Pro tip: use IPython over regular Python if you have it installed)"
   ]
  },
  {
   "cell_type": "markdown",
   "id": "6a771a6a",
   "metadata": {
    "slideshow": {
     "slide_type": "slide"
    }
   },
   "source": [
    "### EXERCISE: launching a console on the Hub\n",
    "\n",
    "- Go to the launcher and select one of the options under \"Console\"\n",
    "- Try running single lines of code, like `print(\"Hello, world!\")`\n",
    "- Try running multiple lines in a single code block"
   ]
  },
  {
   "cell_type": "markdown",
   "id": "52787d8a",
   "metadata": {
    "slideshow": {
     "slide_type": "slide"
    }
   },
   "source": [
    "## Working with the terminal / shell\n",
    "\n",
    "- Before the invention of Graphical User Interfaces (GUI) like Windows and MacOS, the normal way to interact with a computer was through commands typed in a \"terminal\" interface\n",
    "\n",
    "- MacOS, Windows, and Linux operating systems all provide such interfaces\n",
    "  - Mac: the **Terminal** application (under **Applications/Utilities**): UNIX shell commands\n",
    "  - Windows: **Command Prompt**: DOS (Disk Operating System) shell commands\n",
    "  - Linux: shells are a basic part of the OS\n",
    "\n",
    "- For an experienced user, interacting through a terminal interface can be faster than using a GUI\n",
    "  "
   ]
  },
  {
   "cell_type": "markdown",
   "id": "36e26dda",
   "metadata": {
    "slideshow": {
     "slide_type": "slide"
    }
   },
   "source": [
    "### EXERCISE: working with a terminal\n",
    "\n",
    "- Go the launcher and select \"Terminal\" (under \"Other\")\n",
    "- Try out the following commands:\n",
    "  - `pwd` (present working directory)\n",
    "  - `ls` (list files)\n",
    "  - `ls -a` (list all files and directories, including hidden ones)\n",
    "  - `ls -l` (get a long-format list of files and directories, with date, size, permission codes, etc.)\n",
    "  - `man ls` (get user manual information for the `ls` command)\n",
    "  - `man cd` (get user manual information for the `cd` command)\n",
    "  - `cd <directory-name>` (change directory)\n",
    "  - `cd ..` (go up one directory level)\n",
    "  - `cd ~` (change to your home directory)\n",
    "  - `whoami` (report your user name)\n",
    "  - `man cp` (get user manual information for the `cp` command)\n",
    "  - `cp <file> <new-name>` (make a copy of a file with a different name)\n",
    "  - `man rm` (get user manual information for the `rm` command)\n",
    "    - BE CAREFUL WITH `rm`: REMOVAL IS PERMANENT!\n",
    "\n",
    "These are all UNIX operating system commands. DOS has slightly different commands; for example, it uses `dir` instead of `ls`, and file paths (the sequence of folders and subfolders that describe a file's location) use backslashes `\\` instead of forward slashes `/`."
   ]
  },
  {
   "cell_type": "markdown",
   "id": "55eda122",
   "metadata": {
    "slideshow": {
     "slide_type": "slide"
    }
   },
   "source": [
    "## Running shell commands from a notebook\n",
    "\n",
    "From time to time it's useful to run shell commands directly from a notebook. You can do this using an exclamation point `!` as the first character. For example:"
   ]
  },
  {
   "cell_type": "code",
   "execution_count": null,
   "id": "86e5e82f",
   "metadata": {
    "slideshow": {
     "slide_type": "-"
    }
   },
   "outputs": [],
   "source": [
    "!ls -al"
   ]
  },
  {
   "cell_type": "markdown",
   "id": "0f0053d0",
   "metadata": {
    "slideshow": {
     "slide_type": "slide"
    }
   },
   "source": [
    "## Running an IPython console in the terminal\n",
    "\n",
    "If IPython is installed, running it in a terminal is just a matter of entering `ipython`.\n",
    "\n",
    "To exit, type `exit`\n",
    "\n",
    "Try this out:\n",
    "- Run ipython in a terminal\n",
    "- Define a variable\n",
    "- Print its value\n",
    "- Exit from the ipython console using `exit`\n"
   ]
  },
  {
   "cell_type": "markdown",
   "id": "6dbce8b0",
   "metadata": {
    "slideshow": {
     "slide_type": "slide"
    }
   },
   "source": [
    "## Running Python programs outside of notebooks\n",
    "\n",
    "To create a stand-alone Python program (i.e., not inside a notebook), simply write your code in a text-format file with the extension `.py`.\n",
    "\n",
    "To run it, invoke the Python interpreter and give it the name of your `.py` file as an argument.\n",
    "\n",
    "Example: suppose you have a file called `hello.py` that contains the line `print(\"Hello there!\")`. You can run this program from a terminal window via:\n",
    "\n",
    "```\n",
    "python hello.py\n",
    "```\n",
    "\n",
    "Try it out."
   ]
  },
  {
   "cell_type": "markdown",
   "id": "3a22a94e",
   "metadata": {
    "slideshow": {
     "slide_type": "slide"
    }
   },
   "source": [
    "### EXERCISE\n",
    "\n",
    "For a slightly longer example, here's a copy of the 1D hillslope evolution simulation that we built together in a previous class. Our aim now is to convert this to a stand-alone Python program and test it out. Note that there are some modifications to the original. In particular, instead of plotting the output, the program now writes the final profile to a text file using the numpy function `savetxt()`.\n",
    "\n",
    "- Use the Launcher to open a new Python file\n",
    "- Paste in the code below\n",
    "- Save the file as `hillslope1d.py`\n",
    "- Use the command line to run the program: `python hillslope1d.py`\n",
    "\n",
    "```\n",
    "\"\"\"\n",
    "hillslope1d.py: program to simulate the evolution of a hillslope\n",
    "profile in 1D, based on the diffusion equation.\n",
    "\n",
    "(This is an example of a HEADER DOCSTRING - very useful for documentation!)\n",
    "\"\"\"\n",
    "\n",
    "# INITIALIZE\n",
    "\n",
    "# Import packages\n",
    "import numpy as np\n",
    "\n",
    "print(\"Initializing...\", end=\"\")\n",
    "\n",
    "# Define parameters\n",
    "save_file_name = \"hillslope_output.txt\"\n",
    "Kc = 0.01 # creep coefficient, m2/y\n",
    "boundary_lowering_rate = 0.0001 # rate of boundary lowering, m/y\n",
    "starting_height = 1600.0 # initial elevation, m\n",
    "num_nodes = 101 # number of nodes\n",
    "dx = 10.0 # spacing between nodes, m\n",
    "dt = 5000.0 # time step duration, y\n",
    "num_steps = 4000 # number of time steps\n",
    "\n",
    "# Create data structures\n",
    "x = np.arange(0, dx * num_nodes, dx)\n",
    "height = np.zeros(num_nodes) + starting_height\n",
    "\n",
    "print(\"done.\")\n",
    "\n",
    "\n",
    "# RUN\n",
    "\n",
    "print(\"Running...\", end=\"\")\n",
    "\n",
    "for _ in range(1, num_steps + 1):\n",
    "    \n",
    "    # lower the boundaries\n",
    "    height[0] -= boundary_lowering_rate * dt\n",
    "    height[-1] -= boundary_lowering_rate * dt\n",
    "\n",
    "    # calculate gradients\n",
    "    grad = np.diff(height) / dx\n",
    "\n",
    "    # calculate soil fluxes\n",
    "    soil_flux = -Kc * grad\n",
    "    \n",
    "    # calculate flux divergence\n",
    "    dqdx = np.diff(soil_flux) / dx\n",
    "    \n",
    "    # update elevations\n",
    "    height[1:-1] -= dqdx * dt\n",
    "    \n",
    "print(\"done.\")\n",
    "\n",
    "\n",
    "# FINALIZE\n",
    "\n",
    "print(\"Finalizing...\", end=\"\")\n",
    "\n",
    "# Save the height and distance to a text file\n",
    "data = np.array([height, x])\n",
    "np.savetxt(save_file_name, data)\n",
    "\n",
    "print(\"done.\")\n",
    "```"
   ]
  },
  {
   "cell_type": "markdown",
   "id": "a9fa9a6f",
   "metadata": {
    "slideshow": {
     "slide_type": "slide"
    }
   },
   "source": [
    "Now that we've run the program, we can read in its output and plot it:"
   ]
  },
  {
   "cell_type": "code",
   "execution_count": null,
   "id": "0b4d1ffd",
   "metadata": {
    "slideshow": {
     "slide_type": "-"
    }
   },
   "outputs": [],
   "source": [
    "# Read in the output\n",
    "data = np.loadtxt(save_file_name)\n",
    "x = data[1,:]\n",
    "height = data[0,:]\n",
    "\n",
    "# Plot resulting landform\n",
    "plt.plot(x, height)\n",
    "plt.xlabel(\"Distance (m)\")\n",
    "plt.ylabel(\"Elevation (m)\")"
   ]
  },
  {
   "cell_type": "markdown",
   "id": "6d1e5d42",
   "metadata": {
    "slideshow": {
     "slide_type": "-"
    }
   },
   "source": [
    "This is an example of a recommended practice, especially for larger/slower codes: separate the calculation code from the plotting/analysis code."
   ]
  },
  {
   "cell_type": "markdown",
   "id": "7576d14e",
   "metadata": {
    "slideshow": {
     "slide_type": "slide"
    }
   },
   "source": [
    "## Review\n",
    "\n",
    "You should now be able to:\n",
    "- Use an interactive Python console\n",
    "- Write a Python script as a `.py` file\n",
    "- Run a Python script from a terminal / command prompt"
   ]
  },
  {
   "cell_type": "markdown",
   "id": "6eda4b68",
   "metadata": {
    "slideshow": {
     "slide_type": "slide"
    }
   },
   "source": [
    "## Optional, if time: introduction to git and GitHub\n",
    "\n",
    "- `git`: a command-based version control system created by Linux inventor Linus Torvalds\n",
    "\n",
    "- `GitHub`: a web-based hosting platform for working with `git` repositories, run by a for-profit subsidiary of Microsoft (BitBucket is a similar platform)\n",
    "\n",
    "See: [https://github.com/csdms/ivy/tree/main/lessons/git](https://github.com/csdms/ivy/tree/main/lessons/git)"
   ]
  }
 ],
 "metadata": {
  "celltoolbar": "Slideshow",
  "kernelspec": {
   "display_name": "Python 3 (ipykernel)",
   "language": "python",
   "name": "python3"
  },
  "language_info": {
   "codemirror_mode": {
    "name": "ipython",
    "version": 3
   },
   "file_extension": ".py",
   "mimetype": "text/x-python",
   "name": "python",
   "nbconvert_exporter": "python",
   "pygments_lexer": "ipython3",
   "version": "3.12.4"
  }
 },
 "nbformat": 4,
 "nbformat_minor": 5
}
