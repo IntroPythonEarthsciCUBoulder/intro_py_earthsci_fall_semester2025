{
 "cells": [
  {
   "cell_type": "markdown",
   "id": "3ddf5779-d5bf-4345-a380-2c649e9f14c3",
   "metadata": {},
   "source": [
    "# Mapping and Basic Spatial Analysis with GeoPandas\n",
    "**Introduction to Python Programming for Earth Scientists**, session #13, 11 october 2023\n",
    "\n",
    "## Goals\n",
    "* Display maps from a GeoPandas data frame\n",
    "* Convert data frames to other projections\n",
    "* Calculate areas of rows in data frames"
   ]
  },
  {
   "cell_type": "markdown",
   "id": "ed321b67-7207-4d3b-bfaf-2f2d1dfed54e",
   "metadata": {},
   "source": [
    "Last class we looked at the Pandas library which organized data into \"data frames'.  Today we are going to look at the GeoPandas library.  This extends the pandas data frame to include a 'geometry' column which contains spatial information.  First lets import the geopandas library and load up a shapefile (a file format contianing geographic information) as a data frame."
   ]
  },
  {
   "cell_type": "code",
   "execution_count": null,
   "id": "c9e28c2e-b246-45f3-b8b2-b9d69703f8fb",
   "metadata": {
    "tags": []
   },
   "outputs": [],
   "source": [
    "# set up th emodules we will use\n",
    "# you will need to be in the Develop kernel\n",
    "\n",
    "import geopandas as gpd\n",
    "import os\n",
    "import math"
   ]
  },
  {
   "cell_type": "markdown",
   "id": "64b09633-066f-425f-b65a-44491093f7ea",
   "metadata": {
    "tags": []
   },
   "source": [
    "## What is the GeoPandas Module?\n",
    "Geopandas is a python module that extends the concept of a pandas dataframe with support for a column containing geometry (points, lines, or polygons) and operations for working with geospatial data."
   ]
  },
  {
   "cell_type": "markdown",
   "id": "4f9b11d7-3d9c-465e-853d-80277dbb0527",
   "metadata": {},
   "source": [
    "## Reading Files\n",
    "Like with Pandas we will be reading in a file with a function that will return a geopandas opject.  Instead of using a `.csv` file, we will be using a \"hapefile\"  This typically contains:\n",
    "* geometric objects\n",
    "* a table with information about each object\n",
    "* Spatial and other metadata information \n",
    "\n",
    "These are stored in seperate files with the same name and different extentions.  Conventially the files are worked with together and referenced by the `.shp` extenion.\n",
    "\n",
    "To make things simpler, geopandas can load all the files together from a zip.  Loading shapefiles in geopandas is done with the `read_file` function."
   ]
  },
  {
   "cell_type": "code",
   "execution_count": null,
   "id": "4f362267-b6d4-4b11-bd08-b632097b05dd",
   "metadata": {
    "tags": []
   },
   "outputs": [],
   "source": [
    "# here we set the path name as a variable\n",
    "geology_path=\"geology_a_co.zip\""
   ]
  },
  {
   "cell_type": "code",
   "execution_count": null,
   "id": "3cb9d4dd-2780-4073-b9d7-6bb26276d84a",
   "metadata": {
    "tags": []
   },
   "outputs": [],
   "source": [
    "# create a new geo dataframe\n",
    "geo_df = gpd.read_file(geology_path)"
   ]
  },
  {
   "cell_type": "code",
   "execution_count": null,
   "id": "6ac53057-47e1-495f-ae51-63c871a4491e",
   "metadata": {
    "tags": []
   },
   "outputs": [],
   "source": []
  },
  {
   "cell_type": "markdown",
   "id": "82b6d455-99cb-4833-a5d0-2820e0e2ffce",
   "metadata": {},
   "source": [
    "Now we can view our data frame just like a pandas data frame"
   ]
  },
  {
   "cell_type": "code",
   "execution_count": null,
   "id": "a0031724-be3e-46e9-afde-97daa67ddf86",
   "metadata": {
    "tags": []
   },
   "outputs": [],
   "source": [
    "geo_df.head()"
   ]
  },
  {
   "cell_type": "markdown",
   "id": "f66757fc-92fa-4f00-8f66-da574c2ab1dc",
   "metadata": {},
   "source": [
    "As you can see, 7335 rows, which correspond to different mapped geologic units across the state.  There are a variety of different columns which refer to different aspects of the units.  Some, like UNIT_AGE and ROCKTYPE1 are more obvious than others (like FIPS_C).  There is also the geometry column.  That's what makes this a geo data frame!\n",
    "\n",
    "## Filtering data\n",
    "\n",
    "We can filter this like we would a pandas dataframe.  This syntax is valid for Pandas AND GeoPandas dataframes"
   ]
  },
  {
   "cell_type": "code",
   "execution_count": null,
   "id": "a2479531-8c9a-4bd6-bf32-88da321afea4",
   "metadata": {
    "tags": []
   },
   "outputs": [],
   "source": [
    "# Select all of the rows of the data frame where the ROCKTYPE1 field is sandstone, \n",
    "# and print the head\n",
    "sandstone_df = geo_df[geo_df['ROCKTYPE1']=='sandstone']\n",
    "sandstone_df.head()"
   ]
  },
  {
   "cell_type": "markdown",
   "id": "c7d5b584-79b5-4fbf-ba20-631031854c9d",
   "metadata": {},
   "source": [
    "As you can see, even though we have a new data frame it keeps the row indexing of the original data frame.\n",
    "\n",
    "### A peak under the hood of data frame selection\n",
    "This syntax `df[df[\"key\"] == value]` is a little odd, but it helps to understand exactly whats happening, particularly, what the thing we are passing as our data frame selector (`df['key'] ==value`) is.\n",
    "\n",
    "First, when we select a key in a data frame, we are returning that column:"
   ]
  },
  {
   "cell_type": "code",
   "execution_count": null,
   "id": "6ee2cc70-dc1b-4bbd-8672-5f3ad4c2aaa8",
   "metadata": {
    "tags": []
   },
   "outputs": [],
   "source": [
    "# Select a key\n",
    "geo_df['ROCKTYPE1']"
   ]
  },
  {
   "cell_type": "markdown",
   "id": "3c41dc24-b869-46b9-ad59-d7348ac6137f",
   "metadata": {},
   "source": [
    "Here we have the rocktype value for every row.  Now what happens if we use this in a boolean expresion, as we did when we selected all of the sandstone units?"
   ]
  },
  {
   "cell_type": "code",
   "execution_count": null,
   "id": "25f011fd-15dd-4d33-95cc-cab7a9545e71",
   "metadata": {
    "tags": []
   },
   "outputs": [],
   "source": [
    "geo_df['ROCKTYPE1']=='sandstone'"
   ]
  },
  {
   "cell_type": "markdown",
   "id": "d198a409-f7d3-45b4-96d3-860a83d85715",
   "metadata": {},
   "source": [
    "You can see we get a data frame column of booleans.  This acts as the filter that we pass to our data frame.  When ever we pass a column of booleans to a data frame selection, (instead of say, a column name), it returns only the rows that are `True` in our boolean filter that we pass.  We could construct our own list of booleans and pass that and it would work the same way.\n",
    "\n",
    " ## <font color = green> IN-CLASS PRACTICE </font> \n",
    " Can you print out the number of granite units in colorado?"
   ]
  },
  {
   "cell_type": "code",
   "execution_count": null,
   "id": "f2e685fc-a0f6-47dc-bc8c-da7c830bfa88",
   "metadata": {
    "tags": []
   },
   "outputs": [],
   "source": [
    "# Select the granite units from the data frame\n",
    "\n",
    "# Get the total number of units and print that value."
   ]
  },
  {
   "cell_type": "markdown",
   "id": "970d9f8c-d120-4048-9e38-8329bd3c5b89",
   "metadata": {},
   "source": [
    "## Mapmaking with Geopandas\n",
    "This is a GEOdata frame so we can do GEOGRAPHIC things, like make maps.  To do this, we call the 'plot' method of our data frame"
   ]
  },
  {
   "cell_type": "code",
   "execution_count": null,
   "id": "878fd52d-482a-429f-b8b5-37e7717798ba",
   "metadata": {
    "tags": []
   },
   "outputs": [],
   "source": [
    "geo_df.plot()"
   ]
  },
  {
   "cell_type": "markdown",
   "id": "35bb5e85-8bc3-4cbc-a21d-3c15e8903ca2",
   "metadata": {},
   "source": [
    "Not the most exciting map, but you can see the unit boundaries.  Also note the axes.  The numbers represent degrees of latitude and longitude, like we'd expect for a map.  \n",
    "\n",
    "Lets get a little more detail on this by coloring via rocktype.  We do this with the \"column\" parameter of the plot method.  We'll also include a parameter to make sure they add a legend"
   ]
  },
  {
   "cell_type": "code",
   "execution_count": null,
   "id": "3c654640-301c-43e8-8d01-88e5ef4df671",
   "metadata": {
    "tags": []
   },
   "outputs": [],
   "source": [
    "geo_df.plot(column='ROCKTYPE1', legend=True)"
   ]
  },
  {
   "cell_type": "markdown",
   "id": "43d2b0ab-dfc8-4427-b9d5-05c72b6ba1fb",
   "metadata": {},
   "source": [
    "Very pretty but this legend is in the way!  How could I move it?"
   ]
  },
  {
   "cell_type": "code",
   "execution_count": null,
   "id": "1dd1b4d6-8bf1-4998-9c8b-000c3c52d536",
   "metadata": {},
   "outputs": [],
   "source": []
  },
  {
   "cell_type": "markdown",
   "id": "fa2d6ff6-039c-4115-ade1-759319308c56",
   "metadata": {},
   "source": [
    " ## <font color = green> IN-CLASS PRACTICE </font> \n",
    "Can you make a plot of just the sandstone units of Colorado colored by age?"
   ]
  },
  {
   "cell_type": "code",
   "execution_count": null,
   "id": "429696eb-cd6d-4543-986f-510c5a82ceda",
   "metadata": {},
   "outputs": [],
   "source": []
  },
  {
   "cell_type": "markdown",
   "id": "e86bdb68-24b0-4b4c-81f6-202580bad1fb",
   "metadata": {},
   "source": [
    "## Applying functions to columns\n",
    "\n",
    "This is great, and we can easily pick out rocks with the same age but its not imedietly clear which rocks are older than the others if you're not familiar with the geologic time scale.  What if we want to assign age a NUMBER instead of a name?  I have a file mapping geologic periods to the age (in millions of years).  Note that I've chosen ages that are related to stratigraphic ages given but there is no perfect mapping.  The numbers should be taken with a grain of salt, and are for this exercise only.  Lets read that in "
   ]
  },
  {
   "cell_type": "code",
   "execution_count": null,
   "id": "8d5bc76f-cffc-40ae-82d9-d3e7012e85f9",
   "metadata": {
    "tags": []
   },
   "outputs": [],
   "source": [
    "# open my csv file\n",
    "timescale_file = open('timescale.csv', 'r')\n",
    "# read the lines in as a list\n",
    "ts_lines = timescale_file.readlines()\n",
    "# pull out the header\n",
    "header = ts_lines[0]\n",
    "# make an empty dictionary\n",
    "ts_dict = {}\n",
    "# loop over my line list, starting with the second line (index 1)\n",
    "for line in ts_lines[1:]:\n",
    "    # split the line into a period (string) and age (int)\n",
    "    period, age = line.split(',')\n",
    "    # add that key value pair to my dictionary\n",
    "    ts_dict[period]=float(age)\n",
    "print(ts_dict)\n"
   ]
  },
  {
   "cell_type": "markdown",
   "id": "9c348444-6d9b-4031-983f-90ae454a4758",
   "metadata": {},
   "source": [
    "now we can use this dictionary to assign a new column to our data frame.  To do this we need a function that uses are dictionary to map values, I've made a simple one below"
   ]
  },
  {
   "cell_type": "code",
   "execution_count": null,
   "id": "d5e24205-6325-499d-91d3-0dccbb84e640",
   "metadata": {
    "tags": []
   },
   "outputs": [],
   "source": [
    "def get_my_age(age_string):\n",
    "        return ts_dict[str(age_string)]"
   ]
  },
  {
   "cell_type": "markdown",
   "id": "3f628260-680e-4627-a778-3f1864b4d4e3",
   "metadata": {},
   "source": [
    "Now we can use the apply method to run the function on every row of our data frame"
   ]
  },
  {
   "cell_type": "code",
   "execution_count": null,
   "id": "2a4405c2-7e4e-46cc-8837-fa69381b4458",
   "metadata": {
    "tags": []
   },
   "outputs": [],
   "source": [
    "geo_df['age (ma)'] = geo_df['UNIT_AGE'].apply(get_my_age)"
   ]
  },
  {
   "cell_type": "markdown",
   "id": "e2127e0d-1e4a-4f6a-a1ca-b52be5d4a8b6",
   "metadata": {},
   "source": [
    "What this line does is:\n",
    "1. `geo_df['UNIT_AGE']` - pull out the age column from the data frame\n",
    "2. `.apply(get_my_age)` - run the `get_my_age` function on every row of 'UNIT_AGE' column\n",
    "3. `geo_df['age (ma)'] =` - Assign the result of everything on the right side of the equal side  to the 'age_ma' column of the geo_df data frame, making a new column if necessary.\n",
    "\n",
    "And now we can plot that numerical value"
   ]
  },
  {
   "cell_type": "code",
   "execution_count": null,
   "id": "2ebcfb5b-d12a-40fb-899a-f62acd69847c",
   "metadata": {
    "tags": []
   },
   "outputs": [],
   "source": [
    "geo_df.plot(column='age (ma)', legend=True,cmap='OrRd')"
   ]
  },
  {
   "cell_type": "markdown",
   "id": "c8bb9374-cc26-4b4a-8161-684d9e6c43d1",
   "metadata": {},
   "source": [
    "Wow!  Look at all those OLD rocks.  It turns out the oldest rocks on the map correspond to units mapped as being from the early proterozoic.  We can view just them like this:"
   ]
  },
  {
   "cell_type": "code",
   "execution_count": null,
   "id": "27162c4f-06e0-4a72-8c9e-e3cfece2f75c",
   "metadata": {
    "tags": []
   },
   "outputs": [],
   "source": [
    "geo_df[geo_df['UNIT_AGE']=='Early Proterozoic'].plot(column='UNIT_AGE', legend=True)"
   ]
  },
  {
   "cell_type": "markdown",
   "id": "2452ec7f-40c4-4beb-a077-653c2b581bf9",
   "metadata": {},
   "source": [
    "I wonder how much of colorado is OLD rock.  Well it turns out that geopandas has an area attribute to get that information from each geometry!"
   ]
  },
  {
   "cell_type": "code",
   "execution_count": null,
   "id": "062fa302-aec7-4ff4-b089-923a87671a89",
   "metadata": {
    "tags": []
   },
   "outputs": [],
   "source": [
    "geo_df.area"
   ]
  },
  {
   "cell_type": "code",
   "execution_count": null,
   "id": "46b76e7c-fd41-4d79-a691-46d96df6ad30",
   "metadata": {},
   "outputs": [],
   "source": []
  },
  {
   "cell_type": "markdown",
   "id": "2737a552-fb3a-4432-9e82-1ec2845e9c01",
   "metadata": {},
   "source": [
    "Pay attention to these SMALL areas and that warning!  The coordinates of our data frame are latitude and logitude.  This is telling us that unit - is 0.012 square...degrees?  This isn't a good way to think about area.  As the warning indicates, we want to \"project\" this data into a coordinate system that uses meters as its unit.  We're going to use UTM zone 13N (EPSG 32613), don't worry too much about what this means."
   ]
  },
  {
   "cell_type": "code",
   "execution_count": null,
   "id": "2994cbb0-6985-4894-b6ff-65f2412b03fc",
   "metadata": {
    "tags": []
   },
   "outputs": [],
   "source": [
    "geo_df_utm=geo_df.to_crs(epsg=32613)"
   ]
  },
  {
   "cell_type": "code",
   "execution_count": null,
   "id": "92cc39db-65ae-4c15-8408-5801a0116662",
   "metadata": {
    "tags": []
   },
   "outputs": [],
   "source": [
    "geo_df_utm.area"
   ]
  },
  {
   "cell_type": "markdown",
   "id": "2bc5da63-5c2b-4600-887f-16337f49847f",
   "metadata": {},
   "source": [
    "That looks much more reasonable!  Now lets get a total area of early proterzoic rocks"
   ]
  },
  {
   "cell_type": "code",
   "execution_count": null,
   "id": "ea318ccf-9c9c-4b72-88ad-e17ac2f76019",
   "metadata": {},
   "outputs": [],
   "source": [
    "early_proto_area = geo_df_utm[geo_df_utm['UNIT_AGE']=='Early Proterozoic'].area.sum()\n",
    "print(\"There are\", early_proto_area, \"square meters of Early Proterozoic rocks in Colorado\")"
   ]
  },
  {
   "cell_type": "markdown",
   "id": "8875e367-f7d6-4046-8b67-85d83bd1e7a1",
   "metadata": {},
   "source": [
    "I don't actually know how many square meters colorado is, what percentage of colorado is that?\n",
    " ## <font color = green> IN-CLASS PRACTICE </font> \n"
   ]
  },
  {
   "cell_type": "code",
   "execution_count": null,
   "id": "c2a24215-eaed-4096-90ef-6c87bf72b8c6",
   "metadata": {
    "tags": []
   },
   "outputs": [],
   "source": [
    "# Calculate and print the percentage of Colorado that is Early Proterozoic rock\n",
    "# Print no more than two decimal places"
   ]
  },
  {
   "cell_type": "code",
   "execution_count": null,
   "id": "8a3c5008-8d75-45a9-975d-e1ee1c21f1fd",
   "metadata": {},
   "outputs": [],
   "source": []
  },
  {
   "cell_type": "markdown",
   "id": "05cf1e09-973d-4b38-bd91-b57f5a630f7a",
   "metadata": {},
   "source": [
    "Now what is the most common type of rock in colorado by area?"
   ]
  },
  {
   "cell_type": "code",
   "execution_count": null,
   "id": "130b8786-1e68-4865-abb1-809a019cbffb",
   "metadata": {
    "tags": []
   },
   "outputs": [],
   "source": [
    "# Figure out what rock type is most common"
   ]
  },
  {
   "cell_type": "code",
   "execution_count": null,
   "id": "c89a4de6-5dca-4005-879c-c4e16c6e6218",
   "metadata": {
    "scrolled": true
   },
   "outputs": [],
   "source": []
  },
  {
   "cell_type": "code",
   "execution_count": null,
   "id": "2a04395d-f561-412b-8ad7-943054d15371",
   "metadata": {},
   "outputs": [],
   "source": []
  },
  {
   "cell_type": "code",
   "execution_count": null,
   "id": "30aef78c-8cdb-4f87-a275-595d5da9d19f",
   "metadata": {},
   "outputs": [],
   "source": []
  }
 ],
 "metadata": {
  "kernelspec": {
   "display_name": "Python 3 (ipykernel)",
   "language": "python",
   "name": "python3"
  },
  "language_info": {
   "codemirror_mode": {
    "name": "ipython",
    "version": 3
   },
   "file_extension": ".py",
   "mimetype": "text/x-python",
   "name": "python",
   "nbconvert_exporter": "python",
   "pygments_lexer": "ipython3",
   "version": "3.12.4"
  }
 },
 "nbformat": 4,
 "nbformat_minor": 5
}
