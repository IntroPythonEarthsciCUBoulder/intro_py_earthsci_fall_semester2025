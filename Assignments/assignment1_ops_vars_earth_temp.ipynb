{
 "cells": [
  {
   "cell_type": "markdown",
   "id": "94705b89",
   "metadata": {},
   "source": [
    "# Assignment 1: Earth's radiating temperature\n",
    "\n",
    "(YOUR NAME HERE)\n",
    "\n",
    "(TODAY'S DATE HERE)"
   ]
  },
  {
   "cell_type": "markdown",
   "id": "1498502a",
   "metadata": {},
   "source": [
    "*In solving each of the problems below, please include text comments and description for your future self, so that when you look back you'll have notes on how you solved these problems!*"
   ]
  },
  {
   "cell_type": "markdown",
   "id": "0d15e8cb",
   "metadata": {},
   "source": [
    "## Part 1: Earth's equilibrium radiating temperature\n",
    "\n",
    "*In a Markdown cell below, present and explain (to your future self) the equation we derived in class that predicts the earth's average radiating temperature. Use $\\LaTeX$ math for the equation. Define each variable on a separate line; for example \"$r_e =$ the earth's radius (in meters)\".*"
   ]
  },
  {
   "cell_type": "markdown",
   "id": "42ba1c23",
   "metadata": {},
   "source": [
    "(YOUR ANSWER HERE)"
   ]
  },
  {
   "cell_type": "markdown",
   "id": "0ff7e6d3",
   "metadata": {},
   "source": [
    "## Part 2: Calculating the temperature for modern earth\n",
    "\n",
    "### 2A. Equilibrium radiating temperature\n",
    "\n",
    "*In a code cell(s) below, write a Python program to calculate and print out the earth's equilibrium radiating temperature. Your program should define a variable for each quantity and use operators. Convert your result from Kelvin (which is what the equation gives) to Celsius (= Kelvin plus 273.15 degrees).*\n",
    "\n",
    "*In a separate cell, use `%whos` to list the variables and their types, to make sure they have the correct values and types.*"
   ]
  },
  {
   "cell_type": "code",
   "execution_count": null,
   "id": "97d33bd5",
   "metadata": {},
   "outputs": [],
   "source": []
  },
  {
   "cell_type": "code",
   "execution_count": null,
   "id": "315319d2",
   "metadata": {},
   "outputs": [],
   "source": []
  },
  {
   "cell_type": "markdown",
   "id": "5c3e7ab0",
   "metadata": {},
   "source": [
    "### 2B. The Greenhouse Effect\n",
    "\n",
    "*Compare your result with the 20th century average **surface** temperature of 13.9 $^\\circ$C. The difference represents the **greenhouse effect**: the atmospheric absorption of infrared radiation emitted from earth's surface. Calculate and print the magnitude of the greenhouse effect, in either Kelvins or degrees C.*\n"
   ]
  },
  {
   "cell_type": "code",
   "execution_count": null,
   "id": "a1f329ce",
   "metadata": {},
   "outputs": [],
   "source": []
  },
  {
   "cell_type": "markdown",
   "id": "68807bb3",
   "metadata": {},
   "source": [
    "## Part 3: The Faint Young Sun Problem\n",
    "\n",
    "*Stars like our sun tend to brighten as they age. It is estimated that the sun that shone on early earth was only about 70% as luminous as it is today (e.g., [Spencer, 2019](https://rock.geosociety.org/net/gsatoday/science/G403A/article.htm)). Write a program to calculate and print the following:*\n",
    "\n",
    "- *(a) The expected radiating temperature when the luminosity was only 70% of today's, assuming a modern albedo $\\sim 0.3$*\n",
    "\n",
    "- *(b) How much \"extra\" greenhouse effect, in terms of the difference between the average surface temperature and the radiating temperature, would be needed to keep the ancient earth at or above freezing, assuming the albedo were the same as today's?*\n",
    "\n",
    "- *(c) If the greenhouse effect (again, in terms of temperature difference between surface and radiating) were the same on ancient earth as it is today, what would the albedo need to have been to keep the ancient earth at or above freezing?*\n",
    "\n",
    "*Hint: one strategy for (b) and (c) is to set up the math first, arranging it so that you have an equation for the ancient greenhouse effect (b) or ancient albedo (c). Then calculate the numbers in your program. Another strategy is trial and error, where you guess at an answer and use your code to check, running it repeatedly until your guess at greenhouse effect (b) or albedo (c) produces a temperature near freezing (273.15 K).*"
   ]
  },
  {
   "cell_type": "code",
   "execution_count": null,
   "id": "0e89712c",
   "metadata": {},
   "outputs": [],
   "source": []
  },
  {
   "cell_type": "markdown",
   "id": "86cf1a81",
   "metadata": {},
   "source": [
    "## Part 4: Radiating temperature for the inner planets\n",
    "\n",
    "| Planet name | Number     | Solar irradiance (W/m$^2$) | Albedo | Radius (km$^2$) |\n",
    "|-------------|------------|----------------------------|--------|-----------------|\n",
    "| Mercury | 1 | 9,083 | 0.068 | 2,440 |\n",
    "| Venus | 2 | 2,636 | 0.77 | 6,050 |\n",
    "| Earth | 3   | 1,360 | 0.31 | 6,370 |\n",
    "| Mars | 4    | 586   | 0.25 | 3,390 |\n",
    "\n",
    "*Write a program to calculate and print the effective radiating temperature for each of the inner planets. Your program should:*\n",
    "\n",
    "- *Store the data from the table in either a nested **list** variable or a **dict** variable (your choice).*\n",
    "\n",
    "- *For each planet, calculate its radiating temperature.*\n",
    "\n",
    "- *Use string concatentation to create (and print) a string variable that contains a one-sentence report for each planet. The report string should include the planet's name, its radiating temperature, and whether it is True or False that its radiating temperature is less than or equal to that of earth.*"
   ]
  },
  {
   "cell_type": "code",
   "execution_count": null,
   "id": "94fdae81",
   "metadata": {},
   "outputs": [],
   "source": []
  },
  {
   "cell_type": "markdown",
   "id": "e5a03448",
   "metadata": {},
   "source": [
    "## Part 5 (for graduate students, or as a bonus point)\n",
    "\n",
    "*Write a program that uses the `input()` function to implement the trial-and-error strategy in Part 3. You should have two inputs: a guess at the ancient greenhouse magnitude (as a temperature difference between surface and radiating), and a guess at an ancient albedo. The program should then display the predicted surface temperature in degrees C and in Kelvins, as well as the difference from today's (20th century average) surface temperature. Use your trial-and-error program to identify at least one combination of stronger greenhouse and lower albedo that makes the ancient surface temperature within $\\pm 1$ K of the 20th century value.*"
   ]
  },
  {
   "cell_type": "code",
   "execution_count": null,
   "id": "50625702",
   "metadata": {},
   "outputs": [],
   "source": []
  },
  {
   "cell_type": "markdown",
   "id": "2b318d86",
   "metadata": {},
   "source": [
    "## Part 6 (for graduate students, or as a bonus point)\n",
    "\n",
    "*The Faint Young Sun problem applies to Mars too. There is abundant evidence of liquid water on early Mars, and evidence that the ancient atmosphere was thicker than it is today. Yet the solar irradiance was so low that it is hard to explain how liquid water was able to exist on such a cold, distant world (e.g., [Kite et al., 2019](https://link.springer.com/article/10.1007/s11214-018-0575-5)).*\n",
    "\n",
    "*Write a program to calculate how much greenhouse effect (again, in terms of a difference between radiating temperature and surface temperature) would be needed to create a mean surface temperature of 0 $^\\circ$C on ancient Mars with a sun only 70% as luminous as today's, and on modern Mars (if one were to terraform it).*\n",
    "\n",
    "*(Reference: Kite, E. S. (2019). Geologic constraints on early Mars climate. Space Science Reviews, 215, 1-47.)*"
   ]
  },
  {
   "cell_type": "code",
   "execution_count": null,
   "id": "de0e0521",
   "metadata": {},
   "outputs": [],
   "source": []
  }
 ],
 "metadata": {
  "kernelspec": {
   "display_name": "Python 3 (ipykernel)",
   "language": "python",
   "name": "python3"
  },
  "language_info": {
   "codemirror_mode": {
    "name": "ipython",
    "version": 3
   },
   "file_extension": ".py",
   "mimetype": "text/x-python",
   "name": "python",
   "nbconvert_exporter": "python",
   "pygments_lexer": "ipython3",
   "version": "3.12.4"
  }
 },
 "nbformat": 4,
 "nbformat_minor": 5
}
