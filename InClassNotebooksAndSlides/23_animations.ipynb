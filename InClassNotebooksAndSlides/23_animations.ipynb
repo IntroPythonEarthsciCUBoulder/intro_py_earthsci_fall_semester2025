{
 "cells": [
  {
   "cell_type": "markdown",
   "id": "ab621bf3",
   "metadata": {},
   "source": [
    "# Making animations using matplotlib's FuncAnimation\n",
    "\n",
    "*CU Boulder GEOL 3600 / 5700 Introduction to Python Programming, Nov 2023*\n",
    "\n",
    "### Goal: learn to use FuncAnimation to create and save animations"
   ]
  },
  {
   "cell_type": "markdown",
   "id": "3ae746c2",
   "metadata": {},
   "source": [
    "## Overview\n",
    "\n",
    "- Animations can be powerful ways of visualizing and communicating data and models\n",
    "\n",
    "- An animation is just a sequence of still images that are played in sequence\n",
    "\n",
    "- Lots of ways to create animations in Python\n",
    "\n",
    "- The one we're exploring today is `FuncAnimation`"
   ]
  },
  {
   "cell_type": "markdown",
   "id": "4b2b8890",
   "metadata": {},
   "source": [
    "## How `FuncAnimation` works\n",
    "\n",
    "1. Create an initial matplotlib plot using `subplots()`, and save the `figure` object that it returns.\n",
    "\n",
    "2. Write a function that updates your plot, creating one frame for your animation. The function should take the frame number (an integer) as an argument.\n",
    "\n",
    "3. Call `FuncAnimation()`, passing it your `figure` object and your function. It returns an `animation` object.\n",
    "\n",
    "4. To play the animation in a notebook, convert it to an HTML object. \n"
   ]
  },
  {
   "cell_type": "code",
   "execution_count": null,
   "id": "3308bd8a",
   "metadata": {},
   "outputs": [],
   "source": [
    "import numpy as np\n",
    "import matplotlib.pyplot as plt\n",
    "from matplotlib.animation import FuncAnimation\n",
    "from IPython.display import HTML"
   ]
  },
  {
   "cell_type": "markdown",
   "id": "58c34809",
   "metadata": {},
   "source": [
    "### Example: a moving ball\n",
    "\n",
    "In this example, we'll animate a ball moving from lower left to upper right."
   ]
  },
  {
   "cell_type": "code",
   "execution_count": null,
   "id": "2cec7417",
   "metadata": {},
   "outputs": [],
   "source": [
    "# 1. create a blank figure\n",
    "fig, ax = plt.subplots()\n",
    "\n",
    "# 2. define a function to update the plot\n",
    "def plot_ball(frame_num):\n",
    "    x = y = frame_num / 10.0\n",
    "    ax.cla()\n",
    "    ax.plot(x, y, 'ro')\n",
    "    ax.set_xlim(0, 1)\n",
    "    ax.set_ylim(0, 1)\n",
    "\n",
    "# 3. Call FuncAnimation\n",
    "anim = FuncAnimation(fig, plot_ball, 11)"
   ]
  },
  {
   "cell_type": "code",
   "execution_count": null,
   "id": "4ef106e3",
   "metadata": {},
   "outputs": [],
   "source": [
    "# 4. Convert the animation to an HTML object\n",
    "vid = HTML(anim.to_jshtml())\n",
    "vid"
   ]
  },
  {
   "cell_type": "markdown",
   "id": "d283c1b6",
   "metadata": {},
   "source": [
    "### Try it yourself\n",
    "\n",
    "- What happens if you comment out the `ax.cla()` (\"clear axis\") line in `plot_ball()`?\n",
    "\n",
    "- What happens if you comment out `set_xlim()` or `set_ylim()` calls?\n",
    "\n",
    "- Try modifying the code to have your ball move from lower left to upper right over 51 iterations instead of 11.\n",
    "\n",
    "- Try specifying an interval between frames, in milliseconds, using the `FuncAnimation` keyword parameter `interval` (the default is 200 milliseconds).\n",
    "\n",
    "- Try running `help()` on `FuncAnimation` see what other optional keyword parameters are available."
   ]
  },
  {
   "cell_type": "code",
   "execution_count": null,
   "id": "61624f36",
   "metadata": {},
   "outputs": [],
   "source": [
    "# (copy-paste the above code here and then experiment with it)"
   ]
  },
  {
   "cell_type": "markdown",
   "id": "0855bff4",
   "metadata": {},
   "source": [
    "## Example: animating a timeseries plot\n",
    "\n",
    "The next example uses the Mauna Loa monthly CO2 records, which we'll start by reading from a text file."
   ]
  },
  {
   "cell_type": "code",
   "execution_count": null,
   "id": "0d4e1968",
   "metadata": {},
   "outputs": [],
   "source": [
    "import pandas as pd\n",
    "\n",
    "# Read Mauna Loa monthly CO2 data\n",
    "data = pd.read_table(\"co2_mm_mlo.txt\", skiprows=41, header=None, delim_whitespace=True)\n",
    "data.columns = [\n",
    "    \"year\",\n",
    "    \"month\",\n",
    "    \"decimal date\",\n",
    "    \"monthly average\",\n",
    "    \"de-seasonalized\",\n",
    "    \"# days\",\n",
    "    \"std. of days\",\n",
    "    \"unc of mon mean\",\n",
    "]\n",
    "data"
   ]
  },
  {
   "cell_type": "markdown",
   "id": "5e8f680b",
   "metadata": {},
   "source": [
    "Now we'll animate it, using a red circle to denote the current data point, and a blue line to indicate all preceding data. (Here we'll plot every 4th data point to speed up the process and save on memory.)"
   ]
  },
  {
   "cell_type": "code",
   "execution_count": null,
   "id": "6a15d0b1",
   "metadata": {},
   "outputs": [],
   "source": [
    "# Shorthand\n",
    "decdate = data[\"decimal date\"]\n",
    "co2 = data[\"monthly average\"]"
   ]
  },
  {
   "cell_type": "code",
   "execution_count": null,
   "id": "334254f8",
   "metadata": {
    "scrolled": true
   },
   "outputs": [],
   "source": [
    "# 1. Create a blank plot\n",
    "fig, ax = plt.subplots()\n",
    "\n",
    "# 2. Define function for plotting\n",
    "def plot_co2(i):\n",
    "    ax.cla()\n",
    "    ax.plot(decdate[:(4*i+1)], co2[:(4*i+1)], 'b')\n",
    "    ax.plot(decdate[4*i], co2[4*i], 'ro')\n",
    "    ax.set_xlim(1958, 2024)\n",
    "    ax.set_ylim(300, 425)\n",
    "    ax.set_xlabel(\"Decimal year\")\n",
    "    ax.set_ylabel(r\"CO$_2$ concentration (ppm)\")\n",
    "    ax.set_title(r\"Mauna Loa CO$_2$ record\")\n",
    "\n",
    "# 3. Create a FuncAnimation object\n",
    "anim = FuncAnimation(fig, plot_co2, len(co2) // 4, interval=60.0)\n",
    "\n",
    "# 4. Convert to an HTML object\n",
    "vid = HTML(anim.to_jshtml())\n",
    "\n",
    "# 5. Play\n",
    "vid"
   ]
  },
  {
   "cell_type": "code",
   "execution_count": null,
   "id": "48199bd0",
   "metadata": {},
   "outputs": [],
   "source": []
  }
 ],
 "metadata": {
  "kernelspec": {
   "display_name": "Python 3 (ipykernel)",
   "language": "python",
   "name": "python3"
  },
  "language_info": {
   "codemirror_mode": {
    "name": "ipython",
    "version": 3
   },
   "file_extension": ".py",
   "mimetype": "text/x-python",
   "name": "python",
   "nbconvert_exporter": "python",
   "pygments_lexer": "ipython3",
   "version": "3.12.4"
  }
 },
 "nbformat": 4,
 "nbformat_minor": 5
}
